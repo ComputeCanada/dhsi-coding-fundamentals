{
 "cells": [
  {
   "cell_type": "markdown",
   "metadata": {},
   "source": [
    "# 2.1.3 Conditional Expressions, i.e., IF statements"
   ]
  },
  {
   "cell_type": "markdown",
   "metadata": {},
   "source": [
    "## 1. Boolean Expressions\n",
    "\n",
    "Boolean Expression = An expression that is either true or false.\n",
    "\n",
    "The == operator compares two operands and produces a response of either True or False. In other words, it is Python's version of an equal sign.\n",
    "\n",
    "True and False are also considered a Type."
   ]
  },
  {
   "cell_type": "code",
   "execution_count": null,
   "metadata": {},
   "outputs": [],
   "source": []
  },
  {
   "cell_type": "code",
   "execution_count": null,
   "metadata": {},
   "outputs": [],
   "source": []
  },
  {
   "cell_type": "code",
   "execution_count": null,
   "metadata": {},
   "outputs": [],
   "source": []
  },
  {
   "cell_type": "code",
   "execution_count": null,
   "metadata": {},
   "outputs": [],
   "source": []
  },
  {
   "cell_type": "markdown",
   "metadata": {},
   "source": [
    "In addition to the == operator, you can also use the following operators to determine a Boolean value.\n",
    "\n",
    "1. x != y means x is not equal to y\n",
    "2. x > y means x is greater than y\n",
    "3. x < y means x is less than y\n",
    "4. x >= y means x is greater than or equal to y\n",
    "5. x <= y means x is less than or equal to y\n",
    "\n",
    "And you can use the following words as operators.\n",
    "\n",
    "6. x is y \n",
    "7. x is not y"
   ]
  },
  {
   "cell_type": "code",
   "execution_count": null,
   "metadata": {},
   "outputs": [],
   "source": []
  },
  {
   "cell_type": "code",
   "execution_count": null,
   "metadata": {},
   "outputs": [],
   "source": []
  },
  {
   "cell_type": "code",
   "execution_count": null,
   "metadata": {},
   "outputs": [],
   "source": []
  },
  {
   "cell_type": "code",
   "execution_count": null,
   "metadata": {},
   "outputs": [],
   "source": []
  },
  {
   "cell_type": "code",
   "execution_count": null,
   "metadata": {},
   "outputs": [],
   "source": []
  },
  {
   "cell_type": "code",
   "execution_count": null,
   "metadata": {},
   "outputs": [],
   "source": []
  },
  {
   "cell_type": "code",
   "execution_count": null,
   "metadata": {},
   "outputs": [],
   "source": []
  },
  {
   "cell_type": "code",
   "execution_count": null,
   "metadata": {},
   "outputs": [],
   "source": []
  },
  {
   "cell_type": "markdown",
   "metadata": {},
   "source": [
    "## 2. Logical Operators\n",
    "\n",
    "Logical Operators = AND, OR, NOT\n",
    "\n",
    "For the librarians in the room, boolean and logical operators are going to be very familiar. The AND, OR, and NOT operators allow you to combine comparisons in your code like:\n",
    "\n",
    "Only do [whatever] if x is greater than 0 and x is less than 10.\n",
    "\n",
    "Only do [whatever] if x is greater than 0 or x is less than 10.\n",
    "\n",
    "Only do [whatever] if x is not greater than 0."
   ]
  },
  {
   "cell_type": "code",
   "execution_count": 2,
   "metadata": {},
   "outputs": [],
   "source": [
    "# Note: I tend to use brackets because it's easier to read the expression, but they are not required.\n",
    "\n"
   ]
  },
  {
   "cell_type": "code",
   "execution_count": null,
   "metadata": {},
   "outputs": [],
   "source": []
  },
  {
   "cell_type": "code",
   "execution_count": null,
   "metadata": {},
   "outputs": [],
   "source": []
  },
  {
   "cell_type": "code",
   "execution_count": null,
   "metadata": {},
   "outputs": [],
   "source": []
  },
  {
   "cell_type": "code",
   "execution_count": null,
   "metadata": {},
   "outputs": [],
   "source": []
  },
  {
   "cell_type": "code",
   "execution_count": null,
   "metadata": {},
   "outputs": [],
   "source": []
  },
  {
   "cell_type": "markdown",
   "metadata": {},
   "source": [
    "### The Quirkiness of Python\n",
    "\n",
    "Python computes a logical expression in the order in which they were typed (if there's more than one). If the first part of the logical expression is **False**, Python STOPS processing the rest of the statement.\n",
    "\n",
    "For example: \n",
    "\n",
    "    x = 6\n",
    "    y = 2\n",
    "    (x >= 2) and (x / y > 2)\n",
    "    \n",
    "    Result = True because 6 is greater than or equal to 2, and 6 divided by 2 is greater than 2.\n",
    "    \n",
    "    x = 1\n",
    "    y = 0\n",
    "    (x >= 2) and (x / y > 2)\n",
    "    \n",
    "    Result ?\n",
    "    \n",
    "    x = 6\n",
    "    y = 0\n",
    "    (x >= 2) and (x / y > 2)\n",
    "    \n",
    "    Result ?\n"
   ]
  },
  {
   "cell_type": "code",
   "execution_count": null,
   "metadata": {},
   "outputs": [],
   "source": []
  },
  {
   "cell_type": "code",
   "execution_count": null,
   "metadata": {},
   "outputs": [],
   "source": []
  },
  {
   "cell_type": "code",
   "execution_count": null,
   "metadata": {},
   "outputs": [],
   "source": []
  },
  {
   "cell_type": "markdown",
   "metadata": {},
   "source": [
    "Why did the second conditional expression result in a False, but the third result in an error?\n",
    "\n",
    "In the first example, Python processed both the first and second logical expression because the first expression was True.\n",
    "\n",
    "In the second example, Python processed ONLY the first logical expression and STOPPED because the first expression was False. This is called *short-circuiting*.\n",
    "\n",
    "In the third example, Python process both the first and second logical expression because the first expression was True. However, it produced an error for the second logical expression because you cannot divide by 0.\n",
    "\n",
    "### Guardian Patterns\n",
    "\n",
    "In order to prevent weird situations like above, we can use **guards**.\n",
    "\n",
    "    x = 6\n",
    "    y = 0\n",
    "    (x >= 2) and (y != 0) and (x / y > 2)\n",
    "    \n",
    "The (y != 0) is the guard. It makes sure we do not proceed to (x / y > 2) if y is 0. And thus, prevents an error message from being produced.\n",
    "\n",
    "This may not seem like a big deal now, but when you have a massive program with multiple calculations and you get an error message because of a small quirky thing like this, you might drive yourself crazy trying to figure out where the problem is. By making sure you use *guards* right from the beginning, you'll save yourself a lot of stress in the future!"
   ]
  },
  {
   "cell_type": "code",
   "execution_count": null,
   "metadata": {},
   "outputs": [],
   "source": []
  },
  {
   "cell_type": "code",
   "execution_count": 3,
   "metadata": {},
   "outputs": [],
   "source": [
    "# Note: The (y != 0) expression MUST be before the (x / y > 2) expression or this will happen:\n",
    "\n"
   ]
  },
  {
   "cell_type": "markdown",
   "metadata": {},
   "source": [
    "## 3. Conditional Execution\n",
    "\n",
    "You will probably find yourself using **conditional statements** a lot. Basically, a conditional statement allows us to check if a specific condition exists. If it does exist, we can tell the program to do one thing. And if it does not exist, we can tell the program to do something else.\n",
    "\n",
    "The easiest way to use a conditional statement is to use the **if** statement.\n",
    "\n",
    "    if [my variable] meets condition 1:\n",
    "        then do the following\n",
    "        \n",
    "The line where you're checking whether or not a condition exists (i.e. the line that starts with 'if') always ends with a colon (:). The line that then executes whatever you want to do IF the condition is met must always be indented.\n"
   ]
  },
  {
   "cell_type": "code",
   "execution_count": 4,
   "metadata": {},
   "outputs": [],
   "source": [
    "# Let's assume you have a variable 'x' that is equal to 10. Write a conditional if statement to check if x \n",
    "# greater than 0, and if it is, prints something funny.\n",
    "\n"
   ]
  },
  {
   "cell_type": "code",
   "execution_count": 5,
   "metadata": {
    "collapsed": true
   },
   "outputs": [],
   "source": [
    "# Now change the condition so that x much be greater than 15, how does the result change?\n",
    "\n"
   ]
  },
  {
   "cell_type": "markdown",
   "metadata": {},
   "source": [
    "You'll notice that when the condition is NOT met, nothing happens. That's because we haven't told the program what to do if the condition is false. So, it simply ends."
   ]
  },
  {
   "cell_type": "markdown",
   "metadata": {},
   "source": [
    "## 4. Alternative Execution\n",
    "\n",
    "An alternative execution includes a conditional statement, like the above examples, but it also provides the program with an action to execute if the condition is NOT met. In addition to checking the condition of a variable using an if statement, we're also going to include an else statement and subsequent action.\n",
    "\n",
    "    if [my variable] meets condition 1:\n",
    "        then do this\n",
    "    else:\n",
    "        do this\n",
    "        \n",
    "The 'else' must be at the same level of indentation as the 'if' and end with a colon (:). The action for the else part of the conditional statement must be indented."
   ]
  },
  {
   "cell_type": "code",
   "execution_count": 6,
   "metadata": {},
   "outputs": [],
   "source": [
    "# Write an if/else statement that is the same as above, but provides an action/execution if the condition is not met.\n",
    "\n"
   ]
  },
  {
   "cell_type": "markdown",
   "metadata": {},
   "source": [
    "When planning out a program (or solving a problem) it is very helpful to visualize the if/else statements in a flow chart format."
   ]
  },
  {
   "cell_type": "markdown",
   "metadata": {},
   "source": [
    "## 5. Chained Conditionals\n",
    "\n",
    "Now we can start to get really creative with conditional statements.\n",
    "\n",
    "A **chained conditional statement** checks for more than one possible condition being met. The second (and all subsequent) condition checks will use the word 'elif' -- which is also a reserved word.\n",
    "\n",
    "I say \"second (and all subsequent)\" because you can have an infinite number of 'elif' statements if you want. \n",
    "\n",
    "    if [my variable] meets condition 1:\n",
    "        do this\n",
    "    elif [my variable] meets condition 2:\n",
    "        do this\n",
    "    else:\n",
    "        do this"
   ]
  },
  {
   "cell_type": "code",
   "execution_count": 7,
   "metadata": {},
   "outputs": [],
   "source": [
    "# Write a chained conditional if/elif/else statement, similar to above, that compares two variables against each\n",
    "# other and provide three possible actions.\n",
    "\n"
   ]
  },
  {
   "cell_type": "code",
   "execution_count": 8,
   "metadata": {},
   "outputs": [],
   "source": [
    "# Change the variables in the above code to get a different response.\n",
    "\n"
   ]
  },
  {
   "cell_type": "code",
   "execution_count": 9,
   "metadata": {},
   "outputs": [],
   "source": [
    "# Change the code so that the user must input the values of x and y.\n",
    "\n"
   ]
  },
  {
   "cell_type": "markdown",
   "metadata": {},
   "source": [
    "## 6. Nested Conditionals\n",
    "\n",
    "You may have noticed that while **chained conditionals** are useful, the conditions being checked for must be either/or. In other words, you cannot check that a variable meets more than 1 condition at a time. This is where **nested conditionals** become helpful.\n",
    "\n",
    "A nested conditional statement is essentially an if statement embedded within an if statement. For example:\n",
    "\n",
    "    if [my variable] meets condition 1a:\n",
    "        if [my variable] (also) meets condition 2:\n",
    "            then do response A\n",
    "    elif [my variable] meets condition 1b:\n",
    "        then do response B\n",
    "    else:\n",
    "        then do response C\n",
    "        \n",
    "In the above example, in order for response A to be produced, the variable must meet 2 conditions: 1a and 2. But, if the variable doesn't meet condition 1a, it isn't even checked if it meets condition 2, it moves onto check if it meets condition 1b instead."
   ]
  },
  {
   "cell_type": "code",
   "execution_count": 10,
   "metadata": {},
   "outputs": [],
   "source": [
    "# Write a nested if/elif/else statement that checks if the variable -- x -- is between 25 and 35.\n",
    "\n"
   ]
  }
 ],
 "metadata": {
  "kernelspec": {
   "display_name": "Python 3",
   "language": "python",
   "name": "python3"
  },
  "language_info": {
   "codemirror_mode": {
    "name": "ipython",
    "version": 3
   },
   "file_extension": ".py",
   "mimetype": "text/x-python",
   "name": "python",
   "nbconvert_exporter": "python",
   "pygments_lexer": "ipython3",
   "version": "3.6.1"
  }
 },
 "nbformat": 4,
 "nbformat_minor": 2
}
