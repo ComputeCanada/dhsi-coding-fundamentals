{
 "cells": [
  {
   "cell_type": "markdown",
   "metadata": {},
   "source": [
    "# Section 2.1.11 Regular Expressions"
   ]
  },
  {
   "cell_type": "markdown",
   "metadata": {
    "collapsed": true
   },
   "source": [
    "Now that we've looked at the non-regular expressions way of searching for text, we can look at the **regular expressions** way of searching for text.\n",
    "\n",
    "**Regular expressions** have their own library in Python that must be imported first, before we can use **regular expressions**."
   ]
  },
  {
   "cell_type": "code",
   "execution_count": null,
   "metadata": {
    "collapsed": true
   },
   "outputs": [],
   "source": []
  },
  {
   "cell_type": "markdown",
   "metadata": {},
   "source": [
    "For the sake of ease, we'll use the same text file we used in the Dictionaries section here."
   ]
  },
  {
   "cell_type": "code",
   "execution_count": null,
   "metadata": {
    "collapsed": true
   },
   "outputs": [],
   "source": []
  },
  {
   "cell_type": "markdown",
   "metadata": {},
   "source": [
    "Next, we'll add a familiar for loop to cycle through the lines in the text file and search for specific items."
   ]
  },
  {
   "cell_type": "code",
   "execution_count": null,
   "metadata": {},
   "outputs": [],
   "source": []
  },
  {
   "cell_type": "markdown",
   "metadata": {},
   "source": [
    "In this case, our results are exactly the same as they were when we searched a file in Section 2.1.7b. While we used the **re.search()** function, we still only looked for a term that did not contain a **regular expression**. \n",
    "\n",
    "Our next step will be to replace \"Dashwood\" with a **regular expression** that will search for (and display) only references to female Dashwoods."
   ]
  },
  {
   "cell_type": "code",
   "execution_count": null,
   "metadata": {},
   "outputs": [],
   "source": []
  },
  {
   "cell_type": "markdown",
   "metadata": {},
   "source": [
    "The **regular expression** used above was \"M(\\w+)s(\\.\\s|\\s)(\\w{0,5}\\s?)Dashwood(\\'?)(s?)\" -- but what the heck does that all mean?\n",
    "\n",
    "We'll hand it over to John to provide a more detailed explanation of how to actually come up with a **regular expression** to use in your Python code."
   ]
  }
 ],
 "metadata": {
  "kernelspec": {
   "display_name": "Python 3",
   "language": "python",
   "name": "python3"
  },
  "language_info": {
   "codemirror_mode": {
    "name": "ipython",
    "version": 3
   },
   "file_extension": ".py",
   "mimetype": "text/x-python",
   "name": "python",
   "nbconvert_exporter": "python",
   "pygments_lexer": "ipython3",
   "version": "3.6.1"
  }
 },
 "nbformat": 4,
 "nbformat_minor": 2
}
