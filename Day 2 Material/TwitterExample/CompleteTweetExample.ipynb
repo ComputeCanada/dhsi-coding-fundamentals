{
 "cells": [
  {
   "cell_type": "markdown",
   "metadata": {},
   "source": [
    "# Get 100 tweets from Twitter"
   ]
  },
  {
   "cell_type": "code",
   "execution_count": null,
   "metadata": {
    "collapsed": false
   },
   "outputs": [],
   "source": [
    "#from https://marcobonzanini.com/2015/03/02/mining-twitter-data-with-python-part-1/\n",
    "#tweepy can be installed with 'pip install tweepy'\n",
    "import tweepy\n",
    "from tweepy import OAuthHandler\n",
    "\n",
    "# THESE KEYS AND SECRETS ARE FAKE THEY WILL NOT WORK\n",
    "# USE YOUR OWN\n",
    "consumer_key = 'RERV9rOUYzfbGgIf9x7RLixcb'\n",
    "consumer_secret = '9XAjVKtGSkjlumI9cxrr7qoKkjCtTcZjGM7Ca7XmyKalXQh0Lk'\n",
    "access_token = '557113581-pUWMOOsRuwXZs5Zcvm5OabJhZUXVyukRWg9x2Hyy'\n",
    "access_secret = 'dvuVeXPbCneU95bIfNu3QI2mcwYxT8lsXrMCx7RfRizdp'\n",
    "\n",
    "auth = OAuthHandler(consumer_key, consumer_secret)\n",
    "auth.set_access_token(access_token, access_secret)\n",
    " \n",
    "api = tweepy.API(auth)\n",
    "\n",
    "results = api.search(\"#trump\", count=100) #100 is the max that the api search will return\n",
    "print(len(results))\n",
    "for item in results:\n",
    "    print(item.text)\n",
    "    print(type(item))\n",
    "    break"
   ]
  },
  {
   "cell_type": "markdown",
   "metadata": {},
   "source": [
    "# Write contents to a file"
   ]
  },
  {
   "cell_type": "code",
   "execution_count": null,
   "metadata": {
    "collapsed": true
   },
   "outputs": [],
   "source": [
    "import json\n",
    "with open(\"hundredTweets.json\", \"w\") as f:\n",
    "    # print(len(results))\n",
    "    for tweet in results:\n",
    "        f.write(json.dumps(tweet._json) + \"\\n\")"
   ]
  },
  {
   "cell_type": "markdown",
   "metadata": {},
   "source": [
    "# Open a 100 tweet file"
   ]
  },
  {
   "cell_type": "code",
   "execution_count": null,
   "metadata": {
    "collapsed": false
   },
   "outputs": [],
   "source": [
    "tweets = []\n",
    "with open(\"hundredTweets.json\", \"r\") as inputFile:\n",
    "    for line in inputFile:\n",
    "        tweets.append(json.loads(line))"
   ]
  },
  {
   "cell_type": "markdown",
   "metadata": {},
   "source": [
    "# Tokenize"
   ]
  },
  {
   "cell_type": "code",
   "execution_count": null,
   "metadata": {
    "collapsed": false
   },
   "outputs": [],
   "source": [
    "import json\n",
    "from nltk.tokenize import TweetTokenizer\n",
    "from collections import Counter\n",
    "from nltk.corpus import stopwords\n",
    "import string\n",
    "\n",
    "print(len(results))\n",
    " \n",
    "punctuation = list(string.punctuation)\n",
    "stop = stopwords.words('english') + punctuation + ['rt', 'via', 'RT', '…']\n",
    "\n",
    "count_all = Counter()\n",
    "for tweet in results:\n",
    "    text=tweet.text\n",
    "    #print(text)\n",
    "    terms = [term.lower() for term in TweetTokenizer().tokenize(text) if term not in stop]\n",
    "    count_all.update(terms)\n",
    "# Print the first 5 most frequent words\n",
    "print(count_all.most_common(10))"
   ]
  },
  {
   "cell_type": "markdown",
   "metadata": {},
   "source": [
    "# Plotting Sample"
   ]
  },
  {
   "cell_type": "code",
   "execution_count": null,
   "metadata": {
    "collapsed": false
   },
   "outputs": [],
   "source": [
    "import matplotlib.pyplot as plt\n",
    "\n",
    "#special ipython/jupyter command that keeps the output in this window rather than opening another one.\n",
    "%matplotlib inline \n",
    "\n",
    "plt.figure()\n",
    "plt.plot([1, 2, 3, 4], [10, 20, 25, 30], color='lightblue', linewidth=3)\n",
    "plt.scatter([0.3, 3.8, 1.2, 2.5], [11, 25, 9, 26], color='darkgreen', marker='^')\n",
    "plt.bar([1,2,3,4],[12,3,25,18], width=0.2, align='center')\n",
    "plt.xlim(0.5, 4.5)\n",
    "plt.ylim(0,50)\n",
    "plt.show()"
   ]
  },
  {
   "cell_type": "markdown",
   "metadata": {},
   "source": [
    "# Plot the chart"
   ]
  },
  {
   "cell_type": "code",
   "execution_count": null,
   "metadata": {
    "collapsed": false
   },
   "outputs": [],
   "source": [
    "%matplotlib inline\n",
    "count_all_dict = dict(count_all.most_common(10))\n",
    "import matplotlib.pyplot as plt\n",
    "#plt.figure(figsize=(100, 40))\n",
    "plt.bar(range(len(count_all_dict)), count_all_dict.values(), align='center')\n",
    "plt.xticks(range(len(count_all_dict)), list(count_all_dict.keys()),rotation='vertical')\n",
    "\n",
    "plt.show()"
   ]
  }
 ],
 "metadata": {
  "kernelspec": {
   "display_name": "Python 3",
   "language": "python",
   "name": "python3"
  },
  "language_info": {
   "codemirror_mode": {
    "name": "ipython",
    "version": 3
   },
   "file_extension": ".py",
   "mimetype": "text/x-python",
   "name": "python",
   "nbconvert_exporter": "python",
   "pygments_lexer": "ipython3",
   "version": "3.6.0"
  }
 },
 "nbformat": 4,
 "nbformat_minor": 2
}
