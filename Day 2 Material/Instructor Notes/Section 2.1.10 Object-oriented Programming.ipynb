{
 "cells": [
  {
   "cell_type": "markdown",
   "metadata": {},
   "source": [
    "# Section 2.1.10 Object-oriented Programming"
   ]
  },
  {
   "cell_type": "markdown",
   "metadata": {
    "collapsed": true
   },
   "source": [
    "### 1. Object-oriented Programming\n",
    "\n",
    "Python is considered an **object-oriented programming language**. That means it has the following charactertistics:\n",
    "\n",
    "1. Program can include both class and method definitions.\n",
    "\n",
    "2. Most of the computations are expressed in terms of operations on objects.\n",
    "\n",
    "3. Objects are represent things in the real world, and methods often correspond to real world interations.\n",
    "\n",
    "But what doed that actually mean?\n",
    "\n",
    "So far we've built programs using *sequential code, conditional code* (i.e., if statements), *repetitive code* (i.e., loops), and *store and reuse functions*. We've used this code to **create** *data structures* and we've used this code to **manipulate** those *data structures*. \n",
    "\n",
    "Our programs to date have been relatively small, maybe a dozen lines of code at the most. Those programs are relatively easy to understand by reading through the lines of code. *But what happens when you start writing programs that have hundreds or even thousands of lines of code?* At this level, it's important to write code that you can actually understand (and is well commented).\n",
    "\n",
    "But, how do we make code easier to understand? \n",
    "\n",
    "We can use **object-oriented programming** methods. Object-oriented programming can be used to break large pieces of code into small chunks that are easy to understand and focus on. When you're focusing on a specific object within your code, you can ignore the rest of your code.\n",
    "\n"
   ]
  },
  {
   "cell_type": "markdown",
   "metadata": {},
   "source": [
    "### 2. Using Objects\n",
    "\n",
    "If you look really closely at what we've done so far, you'll see that we've actually already used **objects** in our code. \n",
    "\n"
   ]
  },
  {
   "cell_type": "code",
   "execution_count": 1,
   "metadata": {},
   "outputs": [
    {
     "name": "stdout",
     "output_type": "stream",
     "text": [
      "chickadee\n"
     ]
    }
   ],
   "source": [
    "# Step 1: Construct an object, in this case, of the list type.\n",
    "\n",
    "stuff = list()\n",
    "\n",
    "# Step 2: Call the append method.\n",
    "\n",
    "stuff.append('chickadee')\n",
    "stuff.append('falcon')\n",
    "\n",
    "# Step 3: Call the sort method.\n",
    "\n",
    "stuff.sort()\n",
    "\n",
    "# Step 4: Retrieve and print the element with the '0' index.\n",
    "\n",
    "print(stuff[0])"
   ]
  },
  {
   "cell_type": "markdown",
   "metadata": {},
   "source": [
    "### 3. Program Basics\n",
    "\n",
    "In general, all programs tend to do the same thing: \n",
    "\n",
    "1. They take some form of input.\n",
    "2. They process/manipulate/compute that input.\n",
    "3. They produce some output.\n",
    "\n",
    "If you think about your code in this way, you can see that you're actually programming *multiple sections/parts/zones* of code. We can ignore parts 2 and 3 while we're writing part 1. We can ignore parts 1 and 3 when we're writing part 2. And we can ignore parts 1 and 2 when writing part 3.\n",
    "\n",
    "In the \"hard core\" programming world, there may even be separate programmers working on each of these parts.\n",
    "\n",
    "In some ways, we don't have to know, or even care, about the parts of the program we're not currently working on, including built-in functions. For example, exactly how does the **print()** function work? Do we care? As long as it works and does what we expect, why do we need to know the details? The answer, we don't.\n",
    "\n",
    "The technique of looking at specific parts of code is referred to as **encapsulation**. "
   ]
  },
  {
   "cell_type": "markdown",
   "metadata": {},
   "source": [
    "### 4. Building Objects\n",
    "\n",
    "Let's build an **object** of our own. This **object** can contain code and data structures. It can also contain functions or methods, either built-in ones or ones we create ourselves."
   ]
  },
  {
   "cell_type": "code",
   "execution_count": 4,
   "metadata": {},
   "outputs": [
    {
     "name": "stdout",
     "output_type": "stream",
     "text": [
      "So far, 1\n",
      "So far, 2\n",
      "So far, 3\n",
      "So far, 4\n"
     ]
    }
   ],
   "source": [
    "# Define the object.\n",
    "\n",
    "class PartyAnimal:\n",
    "    x = 0\n",
    "    \n",
    "    # Define a function within the object.\n",
    "    \n",
    "    def party(self):\n",
    "        self.x = self.x + 1\n",
    "        print(\"So far,\", self.x)\n",
    "        \n",
    "# Create code that calls to and execute the object.\n",
    "\n",
    "my_object = PartyAnimal()\n",
    "my_object.party()\n",
    "my_object.party()\n",
    "my_object.party()\n",
    "PartyAnimal.party(my_object)\n"
   ]
  },
  {
   "cell_type": "markdown",
   "metadata": {},
   "source": [
    "It's important to note that the following code does not *create* the **object**:\n",
    "\n",
    "    class PartyAnimal:\n",
    "    \n",
    "All this does is define a template for the PartyAnimal **object**. We don't actually create an **object** until we call it later in the program:\n",
    "\n",
    "    my_object = PartyAnimal()\n",
    "    \n",
    "At this point, we've created an *instance* of the **object** called PartyAnimal using the template defined in *class* and assigned it to the variable called my_object.\n",
    "\n",
    "Now that we've created the **object** and assigned it to a variable, we can call any of the functions within that **object** using the variable name.\n",
    "\n",
    "    my_object.party()"
   ]
  },
  {
   "cell_type": "code",
   "execution_count": 7,
   "metadata": {},
   "outputs": [
    {
     "data": {
      "text/plain": [
       "__main__.PartyAnimal"
      ]
     },
     "execution_count": 7,
     "metadata": {},
     "output_type": "execute_result"
    }
   ],
   "source": [
    "type(my_object)"
   ]
  },
  {
   "cell_type": "code",
   "execution_count": 8,
   "metadata": {},
   "outputs": [
    {
     "data": {
      "text/plain": [
       "int"
      ]
     },
     "execution_count": 8,
     "metadata": {},
     "output_type": "execute_result"
    }
   ],
   "source": [
    "type(my_object.x)"
   ]
  },
  {
   "cell_type": "code",
   "execution_count": 9,
   "metadata": {},
   "outputs": [
    {
     "data": {
      "text/plain": [
       "method"
      ]
     },
     "execution_count": 9,
     "metadata": {},
     "output_type": "execute_result"
    }
   ],
   "source": [
    "type(my_object.party)"
   ]
  },
  {
   "cell_type": "markdown",
   "metadata": {},
   "source": [
    "We can see above that the **object**, and the items inside the **object**, are all defined as we'd expect.\n",
    "\n",
    "We can also take a look at all the functions associated with the **object** called my_object."
   ]
  },
  {
   "cell_type": "code",
   "execution_count": 10,
   "metadata": {},
   "outputs": [
    {
     "data": {
      "text/plain": [
       "['__class__',\n",
       " '__delattr__',\n",
       " '__dict__',\n",
       " '__dir__',\n",
       " '__doc__',\n",
       " '__eq__',\n",
       " '__format__',\n",
       " '__ge__',\n",
       " '__getattribute__',\n",
       " '__gt__',\n",
       " '__hash__',\n",
       " '__init__',\n",
       " '__init_subclass__',\n",
       " '__le__',\n",
       " '__lt__',\n",
       " '__module__',\n",
       " '__ne__',\n",
       " '__new__',\n",
       " '__reduce__',\n",
       " '__reduce_ex__',\n",
       " '__repr__',\n",
       " '__setattr__',\n",
       " '__sizeof__',\n",
       " '__str__',\n",
       " '__subclasshook__',\n",
       " '__weakref__',\n",
       " 'party',\n",
       " 'x']"
      ]
     },
     "execution_count": 10,
     "metadata": {},
     "output_type": "execute_result"
    }
   ],
   "source": [
    "dir(my_object)"
   ]
  },
  {
   "cell_type": "markdown",
   "metadata": {},
   "source": [
    "All the functions (or methods) displayed except the last two are built-in items that are automatically associated with any **object** created. But the last two items, 'party' and 'x', are the custom-built items we created inside the **object** definition (or template)."
   ]
  },
  {
   "cell_type": "markdown",
   "metadata": {},
   "source": [
    "### 5. Multiple Instances\n",
    "\n",
    "The great part of **object-oriented programming** is that we can call an **object** more than once, using different variables. We can create *multiple instances* of that object within the program."
   ]
  },
  {
   "cell_type": "code",
   "execution_count": 19,
   "metadata": {},
   "outputs": [
    {
     "name": "stdout",
     "output_type": "stream",
     "text": [
      "So far, 1\n",
      "So far, 1\n",
      "So far, 2\n",
      "So far, 2\n",
      "So far, 3\n",
      "So far, 3\n",
      "So far, 4\n",
      "So far, 4\n"
     ]
    }
   ],
   "source": [
    "class PartyAnimal:\n",
    "    x = 0\n",
    "    \n",
    "    def party(self):\n",
    "        self.x = self.x + 1\n",
    "        print(\"So far,\", self.x)\n",
    "\n",
    "# Create the first instance of the object PartyAnimal.\n",
    "\n",
    "my_object = PartyAnimal()\n",
    "\n",
    "# Create the second instance of the object PartyAnimal.\n",
    "\n",
    "my_second_object = PartyAnimal()\n",
    "\n",
    "# Now we can call both instances of the object.\n",
    "\n",
    "my_object.party()\n",
    "my_second_object.party()\n",
    "my_object.party()\n",
    "my_second_object.party()\n",
    "my_object.party()\n",
    "my_second_object.party()\n",
    "PartyAnimal.party(my_object)\n",
    "PartyAnimal.party(my_second_object)"
   ]
  },
  {
   "cell_type": "markdown",
   "metadata": {},
   "source": [
    "### 6. Inheritance\n",
    "\n",
    "Yet another awesome thing **object-oriented programming** can do is create a **child** class from a **parent** class.\n",
    "\n"
   ]
  },
  {
   "cell_type": "code",
   "execution_count": 23,
   "metadata": {},
   "outputs": [
    {
     "name": "stdout",
     "output_type": "stream",
     "text": [
      "Pippin constructed\n",
      "Jasper constructed\n",
      "Pippin party count 1\n",
      "Jasper party count 1\n",
      "Jasper points 6\n",
      "['__class__', '__delattr__', '__dict__', '__dir__', '__doc__', '__eq__', '__format__', '__ge__', '__getattribute__', '__gt__', '__hash__', '__init__', '__init_subclass__', '__le__', '__lt__', '__module__', '__ne__', '__new__', '__reduce__', '__reduce_ex__', '__repr__', '__setattr__', '__sizeof__', '__str__', '__subclasshook__', '__weakref__', 'name', 'party', 'points', 'six', 'x']\n"
     ]
    }
   ],
   "source": [
    "# Step 1: Create the parent class (or import it from another file).\n",
    "\n",
    "class PartyAnimal():\n",
    "    x = 0\n",
    "    \n",
    "    # This code was added so we could import an argument.\n",
    "    \n",
    "    name = ''                                   \n",
    "    \n",
    "    # This code was added to 'officially' initiate the class object. It's good etiquitte to include.\n",
    "    def __init__(self, name1):\n",
    "        self.name = name1\n",
    "        print(self.name, 'constructed')\n",
    "        \n",
    "    def party(self):\n",
    "        self.x = self.x + 1\n",
    "        print(self.name, \"party count\", self.x)\n",
    "\n",
    "# Step 2: Create the child class.\n",
    "\n",
    "class Fan(PartyAnimal):\n",
    "    points = 0\n",
    "    def six (self):\n",
    "        self.points = self.points + 6\n",
    "        print(self.name, \"points\", self.points)\n",
    "        \n",
    "# Step 3: Create code to call and execute both the parent and child classes.\n",
    "\n",
    "first_object = PartyAnimal(\"Pippin\")\n",
    "second_object = Fan(\"Jasper\")\n",
    "\n",
    "first_object.party()\n",
    "second_object.party()\n",
    "second_object.six()\n",
    "\n",
    "print(dir(second_object))"
   ]
  }
 ],
 "metadata": {
  "kernelspec": {
   "display_name": "Python 3",
   "language": "python",
   "name": "python3"
  },
  "language_info": {
   "codemirror_mode": {
    "name": "ipython",
    "version": 3
   },
   "file_extension": ".py",
   "mimetype": "text/x-python",
   "name": "python",
   "nbconvert_exporter": "python",
   "pygments_lexer": "ipython3",
   "version": "3.6.1"
  }
 },
 "nbformat": 4,
 "nbformat_minor": 2
}
