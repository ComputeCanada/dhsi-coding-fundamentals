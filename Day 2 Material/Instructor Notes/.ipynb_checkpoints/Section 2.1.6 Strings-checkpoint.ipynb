{
 "cells": [
  {
   "cell_type": "markdown",
   "metadata": {
    "collapsed": true
   },
   "source": [
    "# Section 2.1.6 Strings"
   ]
  },
  {
   "cell_type": "markdown",
   "metadata": {},
   "source": [
    "## 1. What is a string?\n",
    "\n",
    "A **string** is simply a sequence of characters. Humans may look at a **string** and see a word or a sentence, but all the computer sees is a list of alpha-numeric (plus other) characters.\n",
    "\n",
    "We've already done a lot of things with **strings**. We've displayed them on the screen with the *print()* function. We've changed a **string** of numbers to an integer or a floating point number using type conversion functions. And we've asked a user to give us a **string** to use with the *input()* function.\n",
    "\n",
    "So far we've used **strings** like they were words or sentences. Now we're going to think like the computer and look at **strings** like they're a sequence of characters.\n",
    "\n",
    "### String Indices\n",
    "\n",
    "If there's one thing about **strings** that you take awake from today's lesson, it should be that when referencing each character in a **string**, using its *index*, you must start at 0. The first character in a **string** is **NOT** 1."
   ]
  },
  {
   "cell_type": "code",
   "execution_count": 2,
   "metadata": {
    "collapsed": false
   },
   "outputs": [
    {
     "name": "stdout",
     "output_type": "stream",
     "text": [
      "J\n",
      "a\n"
     ]
    }
   ],
   "source": [
    "# First, we need to assign a string variable a value.\n",
    "\n",
    "this_is_a_string = \"Jasmine\"\n",
    "\n",
    "# Then we can look at the individual characters.\n",
    "\n",
    "first_letter = this_is_a_string[0]\n",
    "second_letter = this_is_a_string[1]\n",
    "\n",
    "print(first_letter)\n",
    "print(second_letter)"
   ]
  },
  {
   "cell_type": "markdown",
   "metadata": {},
   "source": [
    "**Pop Quiz:** *What would be displayed if we asked for the 5th character in a string that was this sentence?*"
   ]
  },
  {
   "cell_type": "code",
   "execution_count": 4,
   "metadata": {
    "collapsed": false
   },
   "outputs": [
    {
     "name": "stdout",
     "output_type": "stream",
     "text": [
      " \n"
     ]
    }
   ],
   "source": [
    "sentence = \"What would be displayed if we asked for the 5th character in a string that was this sentence?\"\n",
    "fourth_character = sentence[4]\n",
    "print (fourth_character)"
   ]
  },
  {
   "cell_type": "markdown",
   "metadata": {},
   "source": [
    "## 2. LEN Function\n",
    "\n",
    "If you want to somehow analyze a **string**, or put it in a loop, it might be useful to know how long the string is. That way you know how many charcter idices you need to reference.\n",
    "\n",
    "Keep in mind, however, that the **len()** function returns a length that counts the characters as if the first charater was a 1. "
   ]
  },
  {
   "cell_type": "code",
   "execution_count": 5,
   "metadata": {
    "collapsed": false
   },
   "outputs": [
    {
     "data": {
      "text/plain": [
       "7"
      ]
     },
     "execution_count": 5,
     "metadata": {},
     "output_type": "execute_result"
    }
   ],
   "source": [
    "fun_stuff = \"holiday\"\n",
    "len(fun_stuff)"
   ]
  },
  {
   "cell_type": "markdown",
   "metadata": {},
   "source": [
    "The **strig** \"holiday\" has 7 characters in it -- 'h' is character 1, 'o' is character 2, etc. 'h' is NOT character 0.\n",
    "\n",
    "You can now get creative knowing how to get the length of a **string** and specific letters within a string."
   ]
  },
  {
   "cell_type": "code",
   "execution_count": 7,
   "metadata": {
    "collapsed": false
   },
   "outputs": [
    {
     "name": "stdout",
     "output_type": "stream",
     "text": [
      "15\n",
      "s\n"
     ]
    }
   ],
   "source": [
    "fun_stuff = \"mountain passes\"\n",
    "length = len(fun_stuff)\n",
    "print(length)\n",
    "\n",
    "last_character = fun_stuff[length-1]\n",
    "print(last_character)"
   ]
  },
  {
   "cell_type": "markdown",
   "metadata": {},
   "source": [
    "Because the **len()** function returns an integer, we can add or subtract from its assigned variable to find specific characters."
   ]
  },
  {
   "cell_type": "markdown",
   "metadata": {},
   "source": [
    "## 3. Traversing a String\n",
    "\n",
    "As mentioned earlier, because a **string** is a sequence of characters, there may come a time when you want to loop through a **string**, advancing one character at a time. We can do this with a **while** loop."
   ]
  },
  {
   "cell_type": "code",
   "execution_count": 10,
   "metadata": {
    "collapsed": false
   },
   "outputs": [
    {
     "name": "stdout",
     "output_type": "stream",
     "text": [
      "V\n",
      "a\n",
      "n\n",
      "c\n",
      "o\n",
      "u\n",
      "v\n",
      "e\n",
      "r\n",
      " \n",
      "I\n",
      "s\n",
      "l\n",
      "a\n",
      "n\n",
      "d\n"
     ]
    }
   ],
   "source": [
    "my_string = \"Vancouver Island\"\n",
    "string_length = len(my_string)\n",
    "index = 0\n",
    "\n",
    "while index < string_length:\n",
    "    letter = my_string[index]\n",
    "    print(letter)\n",
    "    index = index + 1\n",
    "    \n",
    "    \n"
   ]
  },
  {
   "cell_type": "markdown",
   "metadata": {},
   "source": [
    "**Pop Quiz:** *Why wouldn't we ask the while loop to iterate until the index was less than or equal to the length of the string?*\n",
    "\n",
    "Here's another useful way to use **while** loops to traverse through **string**."
   ]
  },
  {
   "cell_type": "code",
   "execution_count": 14,
   "metadata": {
    "collapsed": false
   },
   "outputs": [
    {
     "name": "stdout",
     "output_type": "stream",
     "text": [
      "S\n",
      "S\n",
      "s\n",
      "The string contains 3 upper and lowercase s's.\n"
     ]
    }
   ],
   "source": [
    "my_string = \"Salt Spring Island\"\n",
    "string_length = len(my_string)\n",
    "index = 0\n",
    "count = 0\n",
    "\n",
    "while index < string_length:\n",
    "    letter = my_string[index]\n",
    "    if letter == 'S' or letter == 's':\n",
    "        print(letter)\n",
    "        count = count + 1\n",
    "    index = index + 1\n",
    "    \n",
    "print(\"The string contains\", count, \"upper and lowercase s's.\")\n",
    "        "
   ]
  },
  {
   "cell_type": "markdown",
   "metadata": {},
   "source": [
    "## 4. String Slices\n",
    "\n",
    "In addition to selecting one character within a **string**, using that character's index, we can also select a series of characters in a **string**. This series of characters from a **string** is called a **slice**.\n",
    "\n"
   ]
  },
  {
   "cell_type": "code",
   "execution_count": 17,
   "metadata": {
    "collapsed": false
   },
   "outputs": [
    {
     "name": "stdout",
     "output_type": "stream",
     "text": [
      "University\n",
      "Alberta\n"
     ]
    }
   ],
   "source": [
    "my_new_string = \"University of Alberta\"\n",
    "\n",
    "first_slice = my_new_string[0:10]\n",
    "second_slice = my_new_string[14:21]\n",
    "\n",
    "print(first_slice)\n",
    "print(second_slice)"
   ]
  },
  {
   "cell_type": "markdown",
   "metadata": {},
   "source": [
    "We can also use this syntax with only one number."
   ]
  },
  {
   "cell_type": "code",
   "execution_count": 19,
   "metadata": {
    "collapsed": false
   },
   "outputs": [
    {
     "name": "stdout",
     "output_type": "stream",
     "text": [
      " of Alberta\n",
      "University\n"
     ]
    }
   ],
   "source": [
    "slice1 = my_new_string[10:]          # Starts at the end of the string and works back 10 indices.\n",
    "slice2 = my_new_string[:10]          # Starts at the beginning of the string and works forward 10 indices.\n",
    "\n",
    "print(slice1)\n",
    "print(slice2)"
   ]
  },
  {
   "cell_type": "markdown",
   "metadata": {},
   "source": [
    "**Pop Quiz:** *What happens when you exclude both indices, but still include the colon?*"
   ]
  },
  {
   "cell_type": "code",
   "execution_count": 20,
   "metadata": {
    "collapsed": false
   },
   "outputs": [
    {
     "name": "stdout",
     "output_type": "stream",
     "text": [
      "University of Alberta\n"
     ]
    }
   ],
   "source": [
    "slice3 = my_new_string[:]\n",
    "print(slice3)"
   ]
  },
  {
   "cell_type": "markdown",
   "metadata": {},
   "source": [
    "## 5. String are Immutable\n",
    "\n",
    "When something is immutable, it means it cannot be changed.\n",
    "\n",
    "For example, I can assign a **string** to a variable. But I cannot use an index reference to change a character in a **string**."
   ]
  },
  {
   "cell_type": "code",
   "execution_count": 21,
   "metadata": {
    "collapsed": false
   },
   "outputs": [
    {
     "name": "stdout",
     "output_type": "stream",
     "text": [
      "I\n"
     ]
    },
    {
     "ename": "TypeError",
     "evalue": "'str' object does not support item assignment",
     "output_type": "error",
     "traceback": [
      "\u001b[0;31m---------------------------------------------------------------------------\u001b[0m",
      "\u001b[0;31mTypeError\u001b[0m                                 Traceback (most recent call last)",
      "\u001b[0;32m<ipython-input-21-afa87d26a3f8>\u001b[0m in \u001b[0;36m<module>\u001b[0;34m()\u001b[0m\n\u001b[1;32m      3\u001b[0m \u001b[0mprint\u001b[0m\u001b[0;34m(\u001b[0m\u001b[0mletter\u001b[0m\u001b[0;34m)\u001b[0m\u001b[0;34m\u001b[0m\u001b[0m\n\u001b[1;32m      4\u001b[0m \u001b[0;34m\u001b[0m\u001b[0m\n\u001b[0;32m----> 5\u001b[0;31m \u001b[0mimmutable_string\u001b[0m\u001b[0;34m[\u001b[0m\u001b[0;36m0\u001b[0m\u001b[0;34m]\u001b[0m \u001b[0;34m=\u001b[0m \u001b[0;34m\"We\"\u001b[0m\u001b[0;34m\u001b[0m\u001b[0m\n\u001b[0m",
      "\u001b[0;31mTypeError\u001b[0m: 'str' object does not support item assignment"
     ]
    }
   ],
   "source": [
    "immutable_string = \"I cannot be changed.\"\n",
    "letter = immutable_string[0]\n",
    "print(letter)\n",
    "\n",
    "immutable_string[0] = \"We\""
   ]
  },
  {
   "cell_type": "markdown",
   "metadata": {},
   "source": [
    "In the above situation, if we really wanted to change 'I' to 'We', we'd have to get kind of creative."
   ]
  },
  {
   "cell_type": "code",
   "execution_count": 23,
   "metadata": {
    "collapsed": false
   },
   "outputs": [
    {
     "name": "stdout",
     "output_type": "stream",
     "text": [
      "We cannot be changed.\n"
     ]
    }
   ],
   "source": [
    "print(\"We\", immutable_string[2:])"
   ]
  },
  {
   "cell_type": "markdown",
   "metadata": {},
   "source": [
    "In this example, we're not changing the **string**, we're manipulating it to get what we want. If we wanted to keep this new **string**, we could assign it to a new variable."
   ]
  },
  {
   "cell_type": "markdown",
   "metadata": {},
   "source": [
    "## 6. The IN Operator\n",
    "\n",
    "In an above example, we used a **while** loop to find all the 's' characters in a **string**. This is useful if we need to know how many s's there are, but what if we just want to know if 's' exists within the **string** and we don't care how many times it appears? We can use the **in** operator.\n",
    "\n",
    "**in** is an operator because it works like a plus sign (+) or a minus sign (-). It is not a function. And, the **in** operator only returns True or False."
   ]
  },
  {
   "cell_type": "code",
   "execution_count": 24,
   "metadata": {
    "collapsed": false
   },
   "outputs": [
    {
     "data": {
      "text/plain": [
       "True"
      ]
     },
     "execution_count": 24,
     "metadata": {},
     "output_type": "execute_result"
    }
   ],
   "source": [
    "another_string = \"I live in Edmonton.\"\n",
    "\"I\" in another_string"
   ]
  },
  {
   "cell_type": "code",
   "execution_count": 25,
   "metadata": {
    "collapsed": false
   },
   "outputs": [
    {
     "data": {
      "text/plain": [
       "False"
      ]
     },
     "execution_count": 25,
     "metadata": {},
     "output_type": "execute_result"
    }
   ],
   "source": [
    "\"b\" in another_string"
   ]
  },
  {
   "cell_type": "code",
   "execution_count": 26,
   "metadata": {
    "collapsed": false
   },
   "outputs": [
    {
     "data": {
      "text/plain": [
       "True"
      ]
     },
     "execution_count": 26,
     "metadata": {},
     "output_type": "execute_result"
    }
   ],
   "source": [
    "\"Edmonton\" in another_string"
   ]
  },
  {
   "cell_type": "markdown",
   "metadata": {},
   "source": [
    "## 7. String Methods\n",
    "\n",
    "In Python, a **string** is considered an *object*. *Objects* contain both data and *methods* that can be used to manipulate the data. *Methods* are basically built-in functions for the *object*.\n",
    "\n",
    "Python has a **type()** function that returns the type of the *object* provided as the argument. But Python also has a **dir()** function that lists all the *methods* associated with the *object*.\n",
    "\n"
   ]
  },
  {
   "cell_type": "code",
   "execution_count": 27,
   "metadata": {
    "collapsed": false
   },
   "outputs": [
    {
     "data": {
      "text/plain": [
       "str"
      ]
     },
     "execution_count": 27,
     "metadata": {},
     "output_type": "execute_result"
    }
   ],
   "source": [
    "type(another_string)"
   ]
  },
  {
   "cell_type": "code",
   "execution_count": 28,
   "metadata": {
    "collapsed": false
   },
   "outputs": [
    {
     "data": {
      "text/plain": [
       "['__add__',\n",
       " '__class__',\n",
       " '__contains__',\n",
       " '__delattr__',\n",
       " '__dir__',\n",
       " '__doc__',\n",
       " '__eq__',\n",
       " '__format__',\n",
       " '__ge__',\n",
       " '__getattribute__',\n",
       " '__getitem__',\n",
       " '__getnewargs__',\n",
       " '__gt__',\n",
       " '__hash__',\n",
       " '__init__',\n",
       " '__init_subclass__',\n",
       " '__iter__',\n",
       " '__le__',\n",
       " '__len__',\n",
       " '__lt__',\n",
       " '__mod__',\n",
       " '__mul__',\n",
       " '__ne__',\n",
       " '__new__',\n",
       " '__reduce__',\n",
       " '__reduce_ex__',\n",
       " '__repr__',\n",
       " '__rmod__',\n",
       " '__rmul__',\n",
       " '__setattr__',\n",
       " '__sizeof__',\n",
       " '__str__',\n",
       " '__subclasshook__',\n",
       " 'capitalize',\n",
       " 'casefold',\n",
       " 'center',\n",
       " 'count',\n",
       " 'encode',\n",
       " 'endswith',\n",
       " 'expandtabs',\n",
       " 'find',\n",
       " 'format',\n",
       " 'format_map',\n",
       " 'index',\n",
       " 'isalnum',\n",
       " 'isalpha',\n",
       " 'isdecimal',\n",
       " 'isdigit',\n",
       " 'isidentifier',\n",
       " 'islower',\n",
       " 'isnumeric',\n",
       " 'isprintable',\n",
       " 'isspace',\n",
       " 'istitle',\n",
       " 'isupper',\n",
       " 'join',\n",
       " 'ljust',\n",
       " 'lower',\n",
       " 'lstrip',\n",
       " 'maketrans',\n",
       " 'partition',\n",
       " 'replace',\n",
       " 'rfind',\n",
       " 'rindex',\n",
       " 'rjust',\n",
       " 'rpartition',\n",
       " 'rsplit',\n",
       " 'rstrip',\n",
       " 'split',\n",
       " 'splitlines',\n",
       " 'startswith',\n",
       " 'strip',\n",
       " 'swapcase',\n",
       " 'title',\n",
       " 'translate',\n",
       " 'upper',\n",
       " 'zfill']"
      ]
     },
     "execution_count": 28,
     "metadata": {},
     "output_type": "execute_result"
    }
   ],
   "source": [
    "dir(another_string)"
   ]
  },
  {
   "cell_type": "markdown",
   "metadata": {},
   "source": [
    "Even better, Python has a **help()** function that will tell you a little about a specific *function* and how to use it.\n",
    "\n",
    "Of course, the Python website and Python books will have more detailed explanations and examples, but this is a great starting point."
   ]
  },
  {
   "cell_type": "code",
   "execution_count": 29,
   "metadata": {
    "collapsed": false
   },
   "outputs": [
    {
     "name": "stdout",
     "output_type": "stream",
     "text": [
      "Help on method_descriptor:\n",
      "\n",
      "strip(...)\n",
      "    S.strip([chars]) -> str\n",
      "    \n",
      "    Return a copy of the string S with leading and trailing\n",
      "    whitespace removed.\n",
      "    If chars is given and not None, remove characters in chars instead.\n",
      "\n"
     ]
    }
   ],
   "source": [
    "help(str.strip)"
   ]
  },
  {
   "cell_type": "code",
   "execution_count": 30,
   "metadata": {
    "collapsed": false
   },
   "outputs": [
    {
     "name": "stdout",
     "output_type": "stream",
     "text": [
      "Help on built-in function strip:\n",
      "\n",
      "strip(...) method of builtins.str instance\n",
      "    S.strip([chars]) -> str\n",
      "    \n",
      "    Return a copy of the string S with leading and trailing\n",
      "    whitespace removed.\n",
      "    If chars is given and not None, remove characters in chars instead.\n",
      "\n"
     ]
    }
   ],
   "source": [
    "help(another_string.strip)"
   ]
  },
  {
   "cell_type": "markdown",
   "metadata": {},
   "source": [
    "In the example above, I used the **help()** function two different ways. The first way I called **help()** with an argument of 'str.strip'. This is similar to calling a function that is part of an imported module or library. In this case, the 'str' part of the argument represents the *object* and the 'strip' part of the argument represents the *function*. \n",
    "\n",
    "The second **help()** example does the exact same thing, but instead of using the generic *object* 'str', I used a known **string** variable, or 'another_string'.\n",
    "\n",
    "When calling *methods*, you must always start the call with the name of the *object* you're referring to, then a dot (.), then the name of the *method*.\n",
    "\n",
    "    object.method()\n",
    "\n",
    "Sometimes the *method* will take an argument within the brackets, sometimes it doesn't. For example, the *method* 'strip' can take a 'chars' argument, if you want to give it. But it will work without an argument."
   ]
  },
  {
   "cell_type": "code",
   "execution_count": 31,
   "metadata": {
    "collapsed": false
   },
   "outputs": [
    {
     "data": {
      "text/plain": [
       "'I live in Edmonton.'"
      ]
     },
     "execution_count": 31,
     "metadata": {},
     "output_type": "execute_result"
    }
   ],
   "source": [
    "another_string.strip()"
   ]
  },
  {
   "cell_type": "code",
   "execution_count": 41,
   "metadata": {
    "collapsed": false
   },
   "outputs": [
    {
     "data": {
      "text/plain": [
       "'live in Edmonton.'"
      ]
     },
     "execution_count": 41,
     "metadata": {},
     "output_type": "execute_result"
    }
   ],
   "source": [
    "another_string.strip('I ')"
   ]
  },
  {
   "cell_type": "code",
   "execution_count": 40,
   "metadata": {
    "collapsed": false
   },
   "outputs": [
    {
     "data": {
      "text/plain": [
       "'I live in Edmonton.'"
      ]
     },
     "execution_count": 40,
     "metadata": {},
     "output_type": "execute_result"
    }
   ],
   "source": [
    "another_string.strip('in')"
   ]
  },
  {
   "cell_type": "markdown",
   "metadata": {},
   "source": [
    "**ADD MORE EXAMPLES**"
   ]
  },
  {
   "cell_type": "markdown",
   "metadata": {},
   "source": [
    "## 8. Parsing Strings\n",
    "\n",
    "Sometimes, like when doing text analysis, we might want to look at a large **string** and extract only a specific part of that **string**. We can do this by combining **string** slicing and **string** *methods*.\n",
    "\n"
   ]
  },
  {
   "cell_type": "code",
   "execution_count": 45,
   "metadata": {
    "collapsed": false
   },
   "outputs": [
    {
     "name": "stdout",
     "output_type": "stream",
     "text": [
      "11\n",
      "21\n",
      "gmail.com\n"
     ]
    }
   ],
   "source": [
    "email_header = \"From: bobby@gmail.com Sun Jun 3 2017 12:30:00\"\n",
    "\n",
    "# Let's assume we only want to find the domain name of the email address, and nothing else.\n",
    "\n",
    "#Finds the @ symbol.\n",
    "at_sign_location = email_header.find('@')     \n",
    "print(at_sign_location)\n",
    "\n",
    "#Finds the first blank space after the @ symbol.\n",
    "blank_after_email = email_header.find(' ',at_sign_location)     \n",
    "print(blank_after_email)\n",
    "\n",
    "#Finds the characters in the indices between the @ symbol location plus 1 character until the first blank character.\n",
    "domain_name = email_header[at_sign_location+1:blank_after_email]   \n",
    "print(domain_name)"
   ]
  },
  {
   "cell_type": "markdown",
   "metadata": {},
   "source": []
  }
 ],
 "metadata": {
  "kernelspec": {
   "display_name": "Python 3",
   "language": "python",
   "name": "python3"
  },
  "language_info": {
   "codemirror_mode": {
    "name": "ipython",
    "version": 3
   },
   "file_extension": ".py",
   "mimetype": "text/x-python",
   "name": "python",
   "nbconvert_exporter": "python",
   "pygments_lexer": "ipython3",
   "version": "3.6.0"
  }
 },
 "nbformat": 4,
 "nbformat_minor": 2
}
