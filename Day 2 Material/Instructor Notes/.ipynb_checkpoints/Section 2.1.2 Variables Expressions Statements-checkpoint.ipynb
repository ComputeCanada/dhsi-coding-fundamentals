{
 "cells": [
  {
   "cell_type": "markdown",
   "metadata": {},
   "source": [
    "# Section 2.1.2 Variables, Expressions, & Statements"
   ]
  },
  {
   "cell_type": "markdown",
   "metadata": {},
   "source": [
    "## 1. Values & Types\n",
    "\n",
    "Value = The most basic element a program will work with, like a letter or a number.\n",
    "\n",
    "Types = Values can be of different Types. \n",
    "Types include: integers (no decimal places), strings, and floating points (with decimal places).\n",
    "\n",
    "The \"print\" statement we used before can work with a variety of types."
   ]
  },
  {
   "cell_type": "code",
   "execution_count": 3,
   "metadata": {},
   "outputs": [
    {
     "name": "stdout",
     "output_type": "stream",
     "text": [
      "4\n"
     ]
    }
   ],
   "source": [
    "print (4)"
   ]
  },
  {
   "cell_type": "code",
   "execution_count": 4,
   "metadata": {},
   "outputs": [
    {
     "name": "stdout",
     "output_type": "stream",
     "text": [
      "Hello World!\n"
     ]
    }
   ],
   "source": [
    "print ('Hello World!')"
   ]
  },
  {
   "cell_type": "markdown",
   "metadata": {},
   "source": [
    "### You can check the \"type\" a value has by using the following function:"
   ]
  },
  {
   "cell_type": "code",
   "execution_count": 14,
   "metadata": {},
   "outputs": [
    {
     "data": {
      "text/plain": [
       "str"
      ]
     },
     "execution_count": 14,
     "metadata": {},
     "output_type": "execute_result"
    }
   ],
   "source": [
    "type ('Hello World!')"
   ]
  },
  {
   "cell_type": "code",
   "execution_count": 6,
   "metadata": {},
   "outputs": [
    {
     "data": {
      "text/plain": [
       "int"
      ]
     },
     "execution_count": 6,
     "metadata": {},
     "output_type": "execute_result"
    }
   ],
   "source": [
    "type (15)"
   ]
  },
  {
   "cell_type": "code",
   "execution_count": 7,
   "metadata": {},
   "outputs": [
    {
     "data": {
      "text/plain": [
       "float"
      ]
     },
     "execution_count": 7,
     "metadata": {},
     "output_type": "execute_result"
    }
   ],
   "source": [
    "type (23.5435)"
   ]
  },
  {
   "cell_type": "code",
   "execution_count": 9,
   "metadata": {},
   "outputs": [
    {
     "data": {
      "text/plain": [
       "str"
      ]
     },
     "execution_count": 9,
     "metadata": {},
     "output_type": "execute_result"
    }
   ],
   "source": [
    "## Note, just because the item is a number, doesn't mean it's an integer or a floating point. \n",
    "## If you include the number within single brackets, Python will interpret this as a string.\n",
    "\n",
    "type ('12345')"
   ]
  },
  {
   "cell_type": "code",
   "execution_count": 15,
   "metadata": {},
   "outputs": [
    {
     "name": "stdout",
     "output_type": "stream",
     "text": [
      "1 234 567\n"
     ]
    }
   ],
   "source": [
    "## Try printing a big number with the commas included, see what happens.\n",
    "\n",
    "print (1,234,567)\n",
    "\n",
    "## The Python print function interprets 1, 234, and 567 as three different integers to be printed, \n",
    "## not as one large number. This is a good example of a semantic error. Everything worked, there were no error\n",
    "## messages, but it may not have been what you were expecting."
   ]
  },
  {
   "cell_type": "markdown",
   "metadata": {},
   "source": [
    "## 2. Variables\n",
    "\n",
    "Variable = A name that refers to a value. Can be created using an *Assignment Statement*."
   ]
  },
  {
   "cell_type": "code",
   "execution_count": 18,
   "metadata": {},
   "outputs": [],
   "source": [
    "## Step 1: Assign a value to a variable. The name of the variable can be anything you want.\n",
    "\n",
    "message = \"Hi, I'm in Victoria. It's really nice here. I want to live here.\"    ## double quotations\n",
    "n = 25\n",
    "pi = 3.1415926535897931"
   ]
  },
  {
   "cell_type": "code",
   "execution_count": 19,
   "metadata": {},
   "outputs": [
    {
     "name": "stdout",
     "output_type": "stream",
     "text": [
      "Hi, I'm in Victoria. It's really nice here. I want to live here.\n",
      "25\n",
      "3.141592653589793\n"
     ]
    }
   ],
   "source": [
    "## Step 2: Use the print statement to display each of the variables, using their names.\n",
    "\n",
    "print (message)\n",
    "print (n)\n",
    "print (pi)"
   ]
  },
  {
   "cell_type": "code",
   "execution_count": 20,
   "metadata": {},
   "outputs": [
    {
     "data": {
      "text/plain": [
       "float"
      ]
     },
     "execution_count": 20,
     "metadata": {},
     "output_type": "execute_result"
    }
   ],
   "source": [
    "## Step 3: Check what the values of each of the variables are by using the type function.\n",
    "\n",
    "type (message)"
   ]
  },
  {
   "cell_type": "code",
   "execution_count": 21,
   "metadata": {},
   "outputs": [
    {
     "data": {
      "text/plain": [
       "int"
      ]
     },
     "execution_count": 21,
     "metadata": {},
     "output_type": "execute_result"
    }
   ],
   "source": [
    "type (n)"
   ]
  },
  {
   "cell_type": "code",
   "execution_count": 22,
   "metadata": {},
   "outputs": [
    {
     "data": {
      "text/plain": [
       "float"
      ]
     },
     "execution_count": 22,
     "metadata": {},
     "output_type": "execute_result"
    }
   ],
   "source": [
    "type (pi)"
   ]
  },
  {
   "cell_type": "markdown",
   "metadata": {},
   "source": [
    "**Variable names** can be anything you want, and can include letters, numbers, and the underscore (_) mark.\n",
    "But, a variable name cannot begin with a number, it must begin with a letter.\n",
    "You also cannot use a reserved word as a variable name. Python has 33 reserved words, as follows:\n",
    "\n",
    "1. and   \n",
    "2. as   \n",
    "3. assert   \n",
    "4. break   \n",
    "5. class   \n",
    "6. continue   \n",
    "7. def   \n",
    "8. del   \n",
    "9. elif   \n",
    "10. else   \n",
    "11. except   \n",
    "12. False   \n",
    "13. finally\n",
    "14. for   \n",
    "15. from   \n",
    "16. global   \n",
    "17. if   \n",
    "18. import   \n",
    "19. in   \n",
    "20. is   \n",
    "21. lambda   \n",
    "22. None   \n",
    "23. nonlocal   \n",
    "24. not   \n",
    "25. or   \n",
    "26. pass   \n",
    "27. raise \n",
    "28. return   \n",
    "29. True   \n",
    "30. try   \n",
    "31. while   \n",
    "32. with   \n",
    "33. yield"
   ]
  },
  {
   "cell_type": "code",
   "execution_count": 23,
   "metadata": {},
   "outputs": [
    {
     "ename": "SyntaxError",
     "evalue": "invalid syntax (<ipython-input-23-ee415b4db7a4>, line 1)",
     "output_type": "error",
     "traceback": [
      "\u001b[0;36m  File \u001b[0;32m\"<ipython-input-23-ee415b4db7a4>\"\u001b[0;36m, line \u001b[0;32m1\u001b[0m\n\u001b[0;31m    2Many = 25\u001b[0m\n\u001b[0m        ^\u001b[0m\n\u001b[0;31mSyntaxError\u001b[0m\u001b[0;31m:\u001b[0m invalid syntax\n"
     ]
    }
   ],
   "source": [
    "## What happens if you start a variable name with a number?\n",
    "\n",
    "2Many = 25"
   ]
  },
  {
   "cell_type": "code",
   "execution_count": 39,
   "metadata": {},
   "outputs": [],
   "source": [
    "## What happens if you start a variable name with a punctuation mark? \n",
    "## What happens if you include different punctuation marks within the variable name?\n",
    "\n",
    "_Month = \"April\"\n",
    "##.Month = \"August\"\n",
    "Birth_Month = \"November\"\n",
    "##Birth.Month = \"July\"\n",
    "##Address@Birth = \"22 Main Street\""
   ]
  },
  {
   "cell_type": "code",
   "execution_count": 41,
   "metadata": {},
   "outputs": [
    {
     "name": "stdout",
     "output_type": "stream",
     "text": [
      "April\n",
      "November\n"
     ]
    }
   ],
   "source": [
    "print (_Month)\n",
    "## print (.Month)\n",
    "print (Birth_Month)\n",
    "##print (Birth.Month)\n",
    "##print (Address@Birth)"
   ]
  },
  {
   "cell_type": "code",
   "execution_count": 29,
   "metadata": {
    "collapsed": true
   },
   "outputs": [],
   "source": [
    "## What happens when you start a variable name with a capital letter?\n",
    "## What happens when you start it with a lower case letter?\n",
    "\n",
    "Age = 23\n",
    "age = 25"
   ]
  },
  {
   "cell_type": "code",
   "execution_count": 30,
   "metadata": {},
   "outputs": [
    {
     "name": "stdout",
     "output_type": "stream",
     "text": [
      "23\n",
      "25\n"
     ]
    }
   ],
   "source": [
    "## Question: Would the above two variables be considered the same variable? Print them both out to see the answer.\n",
    "\n",
    "print (Age)\n",
    "print (age)"
   ]
  },
  {
   "cell_type": "code",
   "execution_count": 31,
   "metadata": {},
   "outputs": [
    {
     "ename": "SyntaxError",
     "evalue": "invalid syntax (<ipython-input-31-a89d998e44fa>, line 3)",
     "output_type": "error",
     "traceback": [
      "\u001b[0;36m  File \u001b[0;32m\"<ipython-input-31-a89d998e44fa>\"\u001b[0;36m, line \u001b[0;32m3\u001b[0m\n\u001b[0;31m    while = 45\u001b[0m\n\u001b[0m          ^\u001b[0m\n\u001b[0;31mSyntaxError\u001b[0m\u001b[0;31m:\u001b[0m invalid syntax\n"
     ]
    }
   ],
   "source": [
    "## What happens when you attempt to use a reserved word as a variable name?\n",
    "\n",
    "while = 45"
   ]
  },
  {
   "cell_type": "markdown",
   "metadata": {},
   "source": [
    "## 3. Statements\n",
    "\n",
    "Statement = A unit of code that the Python interpreter can **execute**.\n",
    "\n",
    "We've seen a couple statements already, including the print statement (e.g., print ('Hello World!')) and the assignment statement (e.g., month = \"June\").\n",
    "\n",
    "Normally, a program (also known as a script) will contain multiple statements."
   ]
  },
  {
   "cell_type": "markdown",
   "metadata": {},
   "source": [
    "## 4. Expressions\n",
    "\n",
    "Expression = A combination of values, variables, and operators.\n",
    "\n",
    "A value by itself can be an expression.\n",
    "A variable by itself can also be an expression.\n",
    "But an operator requires a value and/or a variable to function, therefore, on its own it is not an expression."
   ]
  },
  {
   "cell_type": "code",
   "execution_count": 51,
   "metadata": {
    "collapsed": true
   },
   "outputs": [],
   "source": [
    "x = 17        ## is an expression\n",
    "y = 2 + 5     ## is an expression"
   ]
  },
  {
   "cell_type": "code",
   "execution_count": 52,
   "metadata": {},
   "outputs": [
    {
     "data": {
      "text/plain": [
       "17"
      ]
     },
     "execution_count": 52,
     "metadata": {},
     "output_type": "execute_result"
    }
   ],
   "source": [
    "17            ## is an expression"
   ]
  },
  {
   "cell_type": "code",
   "execution_count": 53,
   "metadata": {},
   "outputs": [
    {
     "data": {
      "text/plain": [
       "7"
      ]
     },
     "execution_count": 53,
     "metadata": {},
     "output_type": "execute_result"
    }
   ],
   "source": [
    "2 + 5         ## is an expression"
   ]
  },
  {
   "cell_type": "markdown",
   "metadata": {},
   "source": [
    "Because we're using an interpreter, the entry of \"2 + 5\" results in the output of \"7\".\n",
    "In a script or program, written in a text editor (for example), typing \"2 + 5\" on its own will produce no result -- unless you use a function like **print** to display it."
   ]
  },
  {
   "cell_type": "markdown",
   "metadata": {},
   "source": [
    "## 5. Operators & Operands\n",
    "\n",
    "**Operators** = Special symbols that represent computations like addition and multiplication. We saw these already in Section 2.1.1 under Arithmetic.\n",
    "\n",
    "Note: In Version 3.x of Python, the division operator (/) will produce an answer WITH decimal places (i.e., a floating point). If you do NOT want to include the decimal places (i.e., you want an integer), you need to use floored division or the // operator."
   ]
  },
  {
   "cell_type": "code",
   "execution_count": 42,
   "metadata": {},
   "outputs": [
    {
     "data": {
      "text/plain": [
       "5.0"
      ]
     },
     "execution_count": 42,
     "metadata": {},
     "output_type": "execute_result"
    }
   ],
   "source": [
    "25 / 5"
   ]
  },
  {
   "cell_type": "code",
   "execution_count": 43,
   "metadata": {},
   "outputs": [
    {
     "data": {
      "text/plain": [
       "5"
      ]
     },
     "execution_count": 43,
     "metadata": {},
     "output_type": "execute_result"
    }
   ],
   "source": [
    "25 // 5"
   ]
  },
  {
   "cell_type": "code",
   "execution_count": 44,
   "metadata": {},
   "outputs": [
    {
     "data": {
      "text/plain": [
       "4.285714285714286"
      ]
     },
     "execution_count": 44,
     "metadata": {},
     "output_type": "execute_result"
    }
   ],
   "source": [
    "30 / 7"
   ]
  },
  {
   "cell_type": "code",
   "execution_count": 45,
   "metadata": {},
   "outputs": [
    {
     "data": {
      "text/plain": [
       "4"
      ]
     },
     "execution_count": 45,
     "metadata": {},
     "output_type": "execute_result"
    }
   ],
   "source": [
    "30 // 7"
   ]
  },
  {
   "cell_type": "markdown",
   "metadata": {},
   "source": [
    "There is also something called a **modulus operator** which has the operator %. When you use a modulus operator (%) instead of a division operator (/) or a floored division operator (//), the result displayed is the remainder."
   ]
  },
  {
   "cell_type": "code",
   "execution_count": 46,
   "metadata": {},
   "outputs": [
    {
     "data": {
      "text/plain": [
       "4.285714285714286"
      ]
     },
     "execution_count": 46,
     "metadata": {},
     "output_type": "execute_result"
    }
   ],
   "source": [
    "30 / 7"
   ]
  },
  {
   "cell_type": "code",
   "execution_count": 47,
   "metadata": {},
   "outputs": [
    {
     "data": {
      "text/plain": [
       "4"
      ]
     },
     "execution_count": 47,
     "metadata": {},
     "output_type": "execute_result"
    }
   ],
   "source": [
    "30 // 7"
   ]
  },
  {
   "cell_type": "code",
   "execution_count": 48,
   "metadata": {},
   "outputs": [
    {
     "data": {
      "text/plain": [
       "2"
      ]
     },
     "execution_count": 48,
     "metadata": {},
     "output_type": "execute_result"
    }
   ],
   "source": [
    "30 % 7"
   ]
  },
  {
   "cell_type": "markdown",
   "metadata": {},
   "source": [
    "## 6. Order of Operations\n",
    "\n",
    "If we think back to our elementary school years, you'll probably remember learning the concept of the order of operations in math. I learned the acronym BEDMAS when I was a kid.\n",
    "\n",
    "B = Brackets\n",
    "E = Exponential\n",
    "D = Division\n",
    "M = Multiplication\n",
    "A = Addition\n",
    "S = Subtraction\n",
    "\n",
    "Order of operations is also used in skill testing questions to 'trick' some people to give the wrong answer!\n",
    "\n",
    "For example, 2 + 3 x 4 = 2 + 12 = 14. BUT, many people might try to calculate this in the order in which the calculations appear and come up with the answer ... 2 + 3 x 4 = 5 x 4 = 20.\n",
    "\n",
    "Python uses the standard order of operations such as BEDMAS."
   ]
  },
  {
   "cell_type": "code",
   "execution_count": 54,
   "metadata": {},
   "outputs": [
    {
     "data": {
      "text/plain": [
       "14"
      ]
     },
     "execution_count": 54,
     "metadata": {},
     "output_type": "execute_result"
    }
   ],
   "source": [
    "2 + 3 * 4"
   ]
  },
  {
   "cell_type": "code",
   "execution_count": 55,
   "metadata": {},
   "outputs": [
    {
     "data": {
      "text/plain": [
       "14"
      ]
     },
     "execution_count": 55,
     "metadata": {},
     "output_type": "execute_result"
    }
   ],
   "source": [
    "2 + (3 * 4)"
   ]
  },
  {
   "cell_type": "code",
   "execution_count": 56,
   "metadata": {
    "scrolled": true
   },
   "outputs": [
    {
     "data": {
      "text/plain": [
       "20"
      ]
     },
     "execution_count": 56,
     "metadata": {},
     "output_type": "execute_result"
    }
   ],
   "source": [
    "(2 + 3) * 4"
   ]
  },
  {
   "cell_type": "markdown",
   "metadata": {},
   "source": [
    "## 7. String Operations\n",
    "\n",
    "Many operators can be used with strings, but they don't always mean the same thing they do when used with numbers.\n",
    "\n",
    "The + operator can be used to concatenate strings.\n",
    "The * operator can be used to repeat strings."
   ]
  },
  {
   "cell_type": "code",
   "execution_count": 58,
   "metadata": {},
   "outputs": [
    {
     "name": "stdout",
     "output_type": "stream",
     "text": [
      "Python for EverybodyCharles Severance\n"
     ]
    }
   ],
   "source": [
    "## Try using the + operator with strings. What happens between the two strings when they're printed?\n",
    "\n",
    "title = \"Python for Everybody\"\n",
    "author = \"Charles Severance\"\n",
    "full = title + author\n",
    "print (full)"
   ]
  },
  {
   "cell_type": "code",
   "execution_count": 60,
   "metadata": {},
   "outputs": [
    {
     "name": "stdout",
     "output_type": "stream",
     "text": [
      "Lord of the Rings, by J.R.R. Tolkien\n"
     ]
    }
   ],
   "source": [
    "## Try using the + operator with strings, but add other items inbetween the strings to make them print properly.\n",
    "\n",
    "title = \"Lord of the Rings\"\n",
    "author = \"J.R.R. Tolkien\"\n",
    "full = title + \", by \" + author\n",
    "print (full)"
   ]
  },
  {
   "cell_type": "code",
   "execution_count": 63,
   "metadata": {},
   "outputs": [
    {
     "name": "stdout",
     "output_type": "stream",
     "text": [
      "Lord of the Rings, by J.R.R. TolkienLord of the Rings, by J.R.R. TolkienLord of the Rings, by J.R.R. Tolkien\n"
     ]
    }
   ],
   "source": [
    "## Try using the * operator with strings.\n",
    "\n",
    "print (full*3)"
   ]
  },
  {
   "cell_type": "code",
   "execution_count": 64,
   "metadata": {},
   "outputs": [
    {
     "name": "stdout",
     "output_type": "stream",
     "text": [
      "I love cats! I love cats! I love cats! \n"
     ]
    }
   ],
   "source": [
    "## Can you think of a way with the * to make the strings display more effectively?\n",
    "\n",
    "print (\"I love cats! \"*3)"
   ]
  },
  {
   "cell_type": "markdown",
   "metadata": {},
   "source": [
    "Sometimes you may want the user of your program to provide you with the strings you want to use. You can do this by using the **input** function.\n",
    "\n",
    "You can capture user input two different ways: \n",
    "1. By using input() to simply open up the computer for user entry and capture whatever is typed.\n",
    "2. By using input('Ask for input here.') to direct the user exactly what needs to be entered.\n",
    "\n",
    "In both scenarios, you can assign the input function to a string variable in order to save the user's input to use later."
   ]
  },
  {
   "cell_type": "code",
   "execution_count": 2,
   "metadata": {},
   "outputs": [
    {
     "name": "stdout",
     "output_type": "stream",
     "text": [
      "This is undirected input.\n"
     ]
    }
   ],
   "source": [
    "## How would you use a string variable to assign undirected input from a user?\n",
    "\n",
    "whatever = input()"
   ]
  },
  {
   "cell_type": "code",
   "execution_count": 3,
   "metadata": {},
   "outputs": [
    {
     "name": "stdout",
     "output_type": "stream",
     "text": [
      "This is undirected input.\n"
     ]
    }
   ],
   "source": [
    "print (whatever)"
   ]
  },
  {
   "cell_type": "code",
   "execution_count": 7,
   "metadata": {
    "scrolled": true
   },
   "outputs": [
    {
     "name": "stdout",
     "output_type": "stream",
     "text": [
      "What is your name?\n",
      "Alicia\n"
     ]
    }
   ],
   "source": [
    "# How would you use a string variable to assign directed input from a user?\n",
    "\n",
    "name = input('What is your name?\\n')"
   ]
  },
  {
   "cell_type": "code",
   "execution_count": 8,
   "metadata": {},
   "outputs": [
    {
     "name": "stdout",
     "output_type": "stream",
     "text": [
      "Alicia\n"
     ]
    }
   ],
   "source": [
    "print (name)"
   ]
  },
  {
   "cell_type": "markdown",
   "metadata": {},
   "source": [
    "## 8. Comments\n",
    "\n",
    "You've probably already learned comments and didn't know it!\n",
    "\n",
    "Within your Python code, if you want to type text that you do not want to be interpret as part of your program, you need to start the line with a number sign - #. Anything typed after # will not be interpreted as code. In some cases, like Jupyter Notebooks, if you want to wrap the comment text, you'll need to press Enter and start a new line, and re-enter the #.\n",
    "\n",
    "As your programs get longer and more complex, it's absolutely vital to include comments, and lots of them. \n",
    "\n",
    "When entering comments, imagine one of the following scenarios:\n",
    "\n",
    "1. Every night when you go to sleep your memory is erased. So every morning when you're working on your script, you need to remind yourself what you were attempting to do.\n",
    "2. That a complete stranger is going to view your script and attempt to copy it to make their own script, and they've never seen the Python language before."
   ]
  },
  {
   "cell_type": "code",
   "execution_count": null,
   "metadata": {
    "collapsed": true
   },
   "outputs": [],
   "source": [
    "# This is a comment."
   ]
  },
  {
   "cell_type": "code",
   "execution_count": null,
   "metadata": {
    "collapsed": true
   },
   "outputs": [],
   "source": []
  }
 ],
 "metadata": {
  "celltoolbar": "Raw Cell Format",
  "kernelspec": {
   "display_name": "Python 3",
   "language": "python",
   "name": "python3"
  },
  "language_info": {
   "codemirror_mode": {
    "name": "ipython",
    "version": 3
   },
   "file_extension": ".py",
   "mimetype": "text/x-python",
   "name": "python",
   "nbconvert_exporter": "python",
   "pygments_lexer": "ipython3",
   "version": "3.6.1"
  }
 },
 "nbformat": 4,
 "nbformat_minor": 2
}
