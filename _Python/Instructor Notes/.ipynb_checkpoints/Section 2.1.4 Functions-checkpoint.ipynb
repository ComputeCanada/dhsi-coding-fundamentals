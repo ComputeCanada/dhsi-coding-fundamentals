{
 "cells": [
  {
   "cell_type": "markdown",
   "metadata": {},
   "source": [
    "# 2.1.4 Functions"
   ]
  },
  {
   "cell_type": "markdown",
   "metadata": {},
   "source": [
    "## 1. What is a function?\n",
    "\n",
    "**Function** = Is a named sequence of statements that performs a computation. A **function** takes an 'argument' and returns a 'result'.\n",
    "\n",
    "*Function Call:*\n",
    "\n",
    "    function_name(argument) --> return_value\n",
    "\n",
    "We've already seen several **functions** in previous sections:\n",
    "\n",
    "    type()\n",
    "\n",
    "    print()\n",
    "\n",
    "    input()\n",
    "\n",
    "Python has both 'built-in' **functions** and 'user created' **functions**. The three **functions** mentioned above are examples of built-in **functions** that can be used in Python anytime.\n",
    "\n",
    "*Why are functions useful?*\n",
    "\n",
    "- Because functions allow you to write a piece of code once, but call and run it over and over again.\n",
    "- Because functions allow you to find mistakes more efficiently.\n",
    "- Because you can re-use a function in other scripts or programs, not just the one in which you wrote it."
   ]
  },
  {
   "cell_type": "markdown",
   "metadata": {},
   "source": [
    "## 2. Built-in Functions\n",
    "\n",
    "Built-in **functions** can be used at anytime, and do not require you to define what they mean first.\n",
    "\n",
    "The **max()** function provides the largest value in a list. And the **min()** function provides the smallest value in a list. In the following example, the **max()** function is looking for the largest character in a string, and the **min()** function is looking for the smallest character in a string."
   ]
  },
  {
   "cell_type": "code",
   "execution_count": 1,
   "metadata": {},
   "outputs": [
    {
     "data": {
      "text/plain": [
       "'y'"
      ]
     },
     "execution_count": 1,
     "metadata": {},
     "output_type": "execute_result"
    }
   ],
   "source": [
    "max('How are you?')"
   ]
  },
  {
   "cell_type": "code",
   "execution_count": 2,
   "metadata": {},
   "outputs": [
    {
     "data": {
      "text/plain": [
       "' '"
      ]
     },
     "execution_count": 2,
     "metadata": {},
     "output_type": "execute_result"
    }
   ],
   "source": [
    "min('How are you?')"
   ]
  },
  {
   "cell_type": "code",
   "execution_count": 4,
   "metadata": {},
   "outputs": [
    {
     "data": {
      "text/plain": [
       "654"
      ]
     },
     "execution_count": 4,
     "metadata": {},
     "output_type": "execute_result"
    }
   ],
   "source": [
    "max(1,234,654,34)"
   ]
  },
  {
   "cell_type": "code",
   "execution_count": 5,
   "metadata": {},
   "outputs": [
    {
     "data": {
      "text/plain": [
       "0.2"
      ]
     },
     "execution_count": 5,
     "metadata": {},
     "output_type": "execute_result"
    }
   ],
   "source": [
    "min(0.2,5.2,6.4,8.2)"
   ]
  },
  {
   "cell_type": "markdown",
   "metadata": {},
   "source": [
    "The **len()** function lets us know how many items are in the argument provided. For example, if the argument is a string, the **len()** function tells us how many characters are in the string."
   ]
  },
  {
   "cell_type": "code",
   "execution_count": 6,
   "metadata": {},
   "outputs": [
    {
     "data": {
      "text/plain": [
       "12"
      ]
     },
     "execution_count": 6,
     "metadata": {},
     "output_type": "execute_result"
    }
   ],
   "source": [
    "len('How are you?')"
   ]
  },
  {
   "cell_type": "markdown",
   "metadata": {},
   "source": [
    "## 3. Type Conversion Functions\n",
    "\n",
    "Python also has built-in **functions** that can convert one type to another.\n",
    "\n",
    "For example, **int()** function converts a string of numbers to an interger type. It can also convert a floating point type to an integer. And the **float()** function can turn an integer or string type to a floating point type. Finally, **str()** can convert an integer type or a floating point type to a string type."
   ]
  },
  {
   "cell_type": "code",
   "execution_count": 8,
   "metadata": {},
   "outputs": [
    {
     "data": {
      "text/plain": [
       "6546546"
      ]
     },
     "execution_count": 8,
     "metadata": {},
     "output_type": "execute_result"
    }
   ],
   "source": [
    "int('6546546')"
   ]
  },
  {
   "cell_type": "code",
   "execution_count": 9,
   "metadata": {},
   "outputs": [
    {
     "ename": "ValueError",
     "evalue": "invalid literal for int() with base 10: 'Bonjour!'",
     "output_type": "error",
     "traceback": [
      "\u001b[0;31m---------------------------------------------------------------------------\u001b[0m",
      "\u001b[0;31mValueError\u001b[0m                                Traceback (most recent call last)",
      "\u001b[0;32m<ipython-input-9-783f3a2aef75>\u001b[0m in \u001b[0;36m<module>\u001b[0;34m()\u001b[0m\n\u001b[1;32m      1\u001b[0m \u001b[0;31m# int() cannot convert a string to an integer.\u001b[0m\u001b[0;34m\u001b[0m\u001b[0;34m\u001b[0m\u001b[0m\n\u001b[1;32m      2\u001b[0m \u001b[0;34m\u001b[0m\u001b[0m\n\u001b[0;32m----> 3\u001b[0;31m \u001b[0mint\u001b[0m\u001b[0;34m(\u001b[0m\u001b[0;34m'Bonjour!'\u001b[0m\u001b[0;34m)\u001b[0m\u001b[0;34m\u001b[0m\u001b[0m\n\u001b[0m",
      "\u001b[0;31mValueError\u001b[0m: invalid literal for int() with base 10: 'Bonjour!'"
     ]
    }
   ],
   "source": [
    "# int() cannot convert a string to an integer.\n",
    "\n",
    "int('Bonjour!')"
   ]
  },
  {
   "cell_type": "code",
   "execution_count": 11,
   "metadata": {},
   "outputs": [
    {
     "data": {
      "text/plain": [
       "5425"
      ]
     },
     "execution_count": 11,
     "metadata": {},
     "output_type": "execute_result"
    }
   ],
   "source": [
    "# When int() converts a floating point type to an integer, it does not round the number, it simply cuts it off.\n",
    "\n",
    "int(5425.3658)"
   ]
  },
  {
   "cell_type": "code",
   "execution_count": 12,
   "metadata": {},
   "outputs": [
    {
     "data": {
      "text/plain": [
       "54654"
      ]
     },
     "execution_count": 12,
     "metadata": {},
     "output_type": "execute_result"
    }
   ],
   "source": [
    "int(54654.99999)"
   ]
  },
  {
   "cell_type": "code",
   "execution_count": 13,
   "metadata": {},
   "outputs": [
    {
     "data": {
      "text/plain": [
       "5425.0"
      ]
     },
     "execution_count": 13,
     "metadata": {},
     "output_type": "execute_result"
    }
   ],
   "source": [
    "float(5425)"
   ]
  },
  {
   "cell_type": "code",
   "execution_count": 15,
   "metadata": {},
   "outputs": [
    {
     "data": {
      "text/plain": [
       "3.14159"
      ]
     },
     "execution_count": 15,
     "metadata": {},
     "output_type": "execute_result"
    }
   ],
   "source": [
    "# float(), unlike int(), can convert string types to floating point types.\n",
    "\n",
    "float('3.14159')"
   ]
  },
  {
   "cell_type": "code",
   "execution_count": 16,
   "metadata": {},
   "outputs": [
    {
     "data": {
      "text/plain": [
       "'54654.2465'"
      ]
     },
     "execution_count": 16,
     "metadata": {},
     "output_type": "execute_result"
    }
   ],
   "source": [
    "str(54654.2465)"
   ]
  },
  {
   "cell_type": "code",
   "execution_count": 18,
   "metadata": {},
   "outputs": [
    {
     "data": {
      "text/plain": [
       "'5423'"
      ]
     },
     "execution_count": 18,
     "metadata": {},
     "output_type": "execute_result"
    }
   ],
   "source": [
    "str(5423)"
   ]
  },
  {
   "cell_type": "markdown",
   "metadata": {},
   "source": [
    "## Math Functions and Random Numbers\n",
    "\n",
    "Python has a **math module** that can provide you with a number of mathematical functions you can use. This *module* is part of the Standard Library of modules that can be used within Python.\n",
    "\n",
    "A complete list of modules in the Standard Library can be found on this website --> https://docs.python.org/3/library/.\n",
    "\n",
    "You can also find a complete description of all the functions available in the *math module* on this website --> https://docs.python.org/3/library/math.html.\n",
    "\n",
    "However, before you can use a module like 'math', you need to import it into your script."
   ]
  },
  {
   "cell_type": "code",
   "execution_count": 19,
   "metadata": {
    "collapsed": true
   },
   "outputs": [],
   "source": [
    "import math"
   ]
  },
  {
   "cell_type": "markdown",
   "metadata": {},
   "source": [
    "In the Jupyter Notebook environment, executing an import will not display any result. It simply creates a **module object** that is named after the module you've imported (i.e., math).\n",
    "\n",
    "**TIP**: When you start to write longer scripts that may import more than one module, you may find it useful to display all the imports at the top of your script, in a group."
   ]
  },
  {
   "cell_type": "code",
   "execution_count": 20,
   "metadata": {},
   "outputs": [
    {
     "name": "stdout",
     "output_type": "stream",
     "text": [
      "<module 'math' from '/Users/alicia/anaconda/lib/python3.6/lib-dynload/math.cpython-36m-darwin.so'>\n"
     ]
    }
   ],
   "source": [
    "print(math)"
   ]
  },
  {
   "cell_type": "markdown",
   "metadata": {},
   "source": [
    "Once a module is imported, you can start to use its associated functions. However, unlike a built-in function like **print()**, you will need to preface an imported function with the *module name and a dot*. Cleaverly enough, this is called *dot notation*.\n",
    "\n",
    "    For example: math.function_name(argument)"
   ]
  },
  {
   "cell_type": "code",
   "execution_count": 25,
   "metadata": {},
   "outputs": [
    {
     "data": {
      "text/plain": [
       "22026.465794806718"
      ]
     },
     "execution_count": 25,
     "metadata": {},
     "output_type": "execute_result"
    }
   ],
   "source": [
    "# This function returns e to the power of 10 (or whatever the argument is).\n",
    "\n",
    "math.exp(10)"
   ]
  },
  {
   "cell_type": "code",
   "execution_count": 26,
   "metadata": {},
   "outputs": [
    {
     "data": {
      "text/plain": [
       "8.0"
      ]
     },
     "execution_count": 26,
     "metadata": {},
     "output_type": "execute_result"
    }
   ],
   "source": [
    "# This function returns 2 to the power of 3.\n",
    "\n",
    "math.pow(2,3)"
   ]
  },
  {
   "cell_type": "code",
   "execution_count": 28,
   "metadata": {},
   "outputs": [
    {
     "data": {
      "text/plain": [
       "-0.5440211108893699"
      ]
     },
     "execution_count": 28,
     "metadata": {},
     "output_type": "execute_result"
    }
   ],
   "source": [
    "# This function returns the sine of 10 (the radians).\n",
    "\n",
    "math.sin(10)\n",
    "\n",
    "# Of course, I completely forget what the sine of a radian means!!"
   ]
  },
  {
   "cell_type": "markdown",
   "metadata": {},
   "source": [
    "### Random Numbers\n",
    "\n",
    "Most computer programs will consistently produce the same outputs based on the same inputs. This concept is said to be *deterministic*.\n",
    "\n",
    "In order to produce a truly **random number**, a program needs to be *nondeterministic*. When it comes to **random numbers**, this *determinism* can cause problems. So, someone created a *random module* that can produce a psuedorandom number.\n",
    "\n",
    "You can find everything you ever wanted to know about the *random module* on this website --> https://docs.python.org/3/library/random.html.\n",
    "\n",
    "And because this is a module, it needs to be imported before it can be used.\n",
    "\n",
    "The random.randint(x,y) function returns an integer between x and y, or in the above case, between 1 and 100. As you can see, it'll return a different number (hopefully) each time it's called."
   ]
  },
  {
   "cell_type": "code",
   "execution_count": 30,
   "metadata": {
    "collapsed": true
   },
   "outputs": [],
   "source": [
    "import random"
   ]
  },
  {
   "cell_type": "code",
   "execution_count": 31,
   "metadata": {},
   "outputs": [
    {
     "data": {
      "text/plain": [
       "51"
      ]
     },
     "execution_count": 31,
     "metadata": {},
     "output_type": "execute_result"
    }
   ],
   "source": [
    "random.randint(1,100)"
   ]
  },
  {
   "cell_type": "code",
   "execution_count": 32,
   "metadata": {},
   "outputs": [
    {
     "data": {
      "text/plain": [
       "39"
      ]
     },
     "execution_count": 32,
     "metadata": {},
     "output_type": "execute_result"
    }
   ],
   "source": [
    "random.randint(1,100)"
   ]
  },
  {
   "cell_type": "markdown",
   "metadata": {},
   "source": [
    "The random.choice() function can 'randomly' select a number from a presented list of numbers."
   ]
  },
  {
   "cell_type": "code",
   "execution_count": 33,
   "metadata": {},
   "outputs": [
    {
     "data": {
      "text/plain": [
       "876"
      ]
     },
     "execution_count": 33,
     "metadata": {},
     "output_type": "execute_result"
    }
   ],
   "source": [
    "list_of_numbers = [2, 34, 65, 876]\n",
    "random.choice(list_of_numbers)"
   ]
  },
  {
   "cell_type": "code",
   "execution_count": 34,
   "metadata": {},
   "outputs": [
    {
     "data": {
      "text/plain": [
       "34"
      ]
     },
     "execution_count": 34,
     "metadata": {},
     "output_type": "execute_result"
    }
   ],
   "source": [
    "random.choice(list_of_numbers)"
   ]
  },
  {
   "cell_type": "markdown",
   "metadata": {},
   "source": [
    "## 5. Adding New Functions\n",
    "\n",
    "Up until now, we've used built-in **functions** that have already been defined by Python (or someone who wrote something in Python). But, as a Python programmer, you can also create your own **functions**.\n",
    "\n",
    "In order to create your own **function**, you first have to define it. This is called a *function definition* and uses the reserved word **def**. You can also call your **function** anything you want, similar to a variable name.\n",
    "\n",
    "You can create two types of **functions**: \n",
    "1. Those that need an argument in order to return a result.\n",
    "2. Those that do not need an argument in order to return a result.\n",
    "\n",
    "    def my_function_name():\n",
    "        line 1\n",
    "        line 2\n",
    "        line ..\n",
    "    \n",
    "The first line of the **function definition** is called the header, and needs to end with a colon. The rest of the **function**, or the body, needs to be indented. There is no limit to how long, or how many lines, can be included in the **function**."
   ]
  },
  {
   "cell_type": "code",
   "execution_count": 35,
   "metadata": {
    "collapsed": true
   },
   "outputs": [],
   "source": [
    "def my_new_function():\n",
    "    print('This is the first line of my new function.')\n",
    "    print('This is the second line of my new function.')"
   ]
  },
  {
   "cell_type": "markdown",
   "metadata": {},
   "source": [
    "Once the **function** is defined, it can be called at any time throughout the script."
   ]
  },
  {
   "cell_type": "code",
   "execution_count": 37,
   "metadata": {},
   "outputs": [
    {
     "name": "stdout",
     "output_type": "stream",
     "text": [
      "This is the first line of my new function.\n",
      "This is the second line of my new function.\n"
     ]
    }
   ],
   "source": [
    "my_new_function()"
   ]
  },
  {
   "cell_type": "markdown",
   "metadata": {},
   "source": [
    "Your new **function** can be called using the exact same process as any other **function**. It doesn't need to be preceeded by another **function** call like 'print'.\n",
    "\n",
    "You can also call a **function** you've created from another **function** you've created!"
   ]
  },
  {
   "cell_type": "code",
   "execution_count": 38,
   "metadata": {
    "collapsed": true
   },
   "outputs": [],
   "source": [
    "def another_new_function():\n",
    "    print('This is me called one function from inside another function.')\n",
    "    my_new_function()"
   ]
  },
  {
   "cell_type": "code",
   "execution_count": 39,
   "metadata": {},
   "outputs": [
    {
     "name": "stdout",
     "output_type": "stream",
     "text": [
      "This is me called one function from inside another function.\n",
      "This is the first line of my new function.\n",
      "This is the second line of my new function.\n"
     ]
    }
   ],
   "source": [
    "another_new_function()"
   ]
  },
  {
   "cell_type": "markdown",
   "metadata": {},
   "source": [
    "## 6. Flow of Execution\n",
    "\n",
    "**Flow of execution** has nothing to do with capital punishment, but it can be just as terrifying! For small programs and scripts, it's pretty easy to determine what is being executed first, second, third, etc. But for large programs, it can get really confusing.\n",
    "\n",
    "In general, code like Python executes in the order in which it is written. However, only **executable** code executes in the order that it was written. **Referenced** code (which is sort of a term I made up) executes in the order in which it is called.\n",
    "\n",
    "    import something\n",
    "    import sometihng_else\n",
    "    \n",
    "    def a_function():\n",
    "        function_statement\n",
    "        function_statement\n",
    "        \n",
    "    def another_function():\n",
    "        function_statement\n",
    "        function_statement\n",
    "        \n",
    "    print('This is the first thing in the script to be executed with a result displayed.')\n",
    "    print('Although technically speaking, the import statements did execute before this, but they didn't result in a display.')\n",
    "    \n",
    "    a_function()\n",
    "    \n",
    "    print('In order to execute the function, Python skips back to the top of the script, where that function was defined.')\n",
    "    \n",
    "    another_function()\n",
    "    \n",
    "    print('Now Python skips back to the top again to execute the 2nd function.')\n",
    "    \n",
    "    print('Now the program is done.')"
   ]
  },
  {
   "cell_type": "markdown",
   "metadata": {},
   "source": [
    "Let's try the above example with real code:"
   ]
  },
  {
   "cell_type": "code",
   "execution_count": 41,
   "metadata": {},
   "outputs": [
    {
     "name": "stdout",
     "output_type": "stream",
     "text": [
      "This is the first thing in the script to be executed with a result displayed.\n",
      "Although technically speaking, the import statements did execute before this, but they didn't result in a display.\n",
      "This is function A.\n",
      "In order to execute the function, Python skips back to the top of the script, where that function was defined.\n",
      "This is function B.\n",
      "Now Python skips back to the top again to execute the 2nd function.\n",
      "Now the program is done.\n"
     ]
    }
   ],
   "source": [
    "import math\n",
    "import random\n",
    "\n",
    "def a_function():\n",
    "    print('This is function A.')\n",
    "    \n",
    "def another_function():\n",
    "    print('This is function B.')\n",
    "    \n",
    "print(\"This is the first thing in the script to be executed with a result displayed.\")\n",
    "print(\"Although technically speaking, the import statements did execute before this, but they didn't result in a display.\")\n",
    "\n",
    "a_function()\n",
    "\n",
    "print(\"In order to execute the function, Python skips back to the top of the script, where that function was defined.\")\n",
    "\n",
    "another_function()\n",
    "\n",
    "print(\"Now Python skips back to the top again to execute the 2nd function.\")\n",
    "\n",
    "print(\"Now the program is done.\")"
   ]
  },
  {
   "cell_type": "markdown",
   "metadata": {},
   "source": [
    "## 7. Parameters and Arguments\n",
    "\n",
    "So far the functions we've *created* have not required any **arguments**, i.e., the round brackets do not contain any information. But we can also create functions that require an **argument**. The **argument** is passed to the function when the function is called by placing it in the round brackets. Inside the function, that **argument** is assigned to a **paramter** that is then used to execute the code within the function.\n",
    "\n",
    "Function Call:\n",
    "\n",
    "    call_a_function(argument)\n",
    "\n",
    "Function Definition:\n",
    "\n",
    "    call_a_function(parameter):\n",
    "        print(parameter)\n",
    "        parameter=parameter+1\n",
    "        print(parameter)\n",
    "    \n",
    "Technically the **argument** equals the **parameter** when the function is called, BUT they may be named two completely different things. Here's an example:"
   ]
  },
  {
   "cell_type": "code",
   "execution_count": 43,
   "metadata": {},
   "outputs": [
    {
     "name": "stdout",
     "output_type": "stream",
     "text": [
      "I love Victoria!\n"
     ]
    }
   ],
   "source": [
    "def a_function(pippin):\n",
    "    print(pippin)\n",
    "    \n",
    "jasper = \"I love Victoria!\"    \n",
    "a_function(jasper)"
   ]
  },
  {
   "cell_type": "markdown",
   "metadata": {},
   "source": [
    "Here's a slightly more complex example:"
   ]
  },
  {
   "cell_type": "code",
   "execution_count": 45,
   "metadata": {},
   "outputs": [
    {
     "name": "stdout",
     "output_type": "stream",
     "text": [
      "I love cats!\n",
      "I love cats!\n",
      "1977\n",
      "1977\n",
      "3.141592653589793\n",
      "3.141592653589793\n"
     ]
    }
   ],
   "source": [
    "def print_twice(ben):\n",
    "    print(ben)\n",
    "    print(ben)\n",
    "    \n",
    "# You can assign the argument to a variable, and use the variable in the function call.\n",
    "# Or you can just type the argument directly in the function call.\n",
    "    \n",
    "print_twice('I love cats!')       \n",
    "print_twice(1977)\n",
    "\n",
    "# Here we're calling a built-in function via a created function!\n",
    "\n",
    "import math\n",
    "print_twice(math.pi)"
   ]
  },
  {
   "cell_type": "markdown",
   "metadata": {},
   "source": [
    "## 8. Fruitful Functions and Void Functions\n",
    "\n",
    "**Fruitful Functions** = Functions that return an actual result that's calculated by the function itself.\n",
    "\n",
    "**Void Functions** = Functions that perform an action, but do not return a value or result.\n",
    "\n",
    "The a_function and print_twice functions above are both **void** functions. They print/display something when they're called, but no value is returned from them.\n",
    "\n",
    "Most of the functions associated with the **math** module are **fruitful** functions because they return an actual result."
   ]
  },
  {
   "cell_type": "code",
   "execution_count": 46,
   "metadata": {},
   "outputs": [
    {
     "data": {
      "text/plain": [
       "3.1622776601683795"
      ]
     },
     "execution_count": 46,
     "metadata": {},
     "output_type": "execute_result"
    }
   ],
   "source": [
    "import math\n",
    "\n",
    "math.sqrt(10)"
   ]
  },
  {
   "cell_type": "markdown",
   "metadata": {},
   "source": [
    "Because a **fruitful** function returns a result, you can assign this type of function to a variable."
   ]
  },
  {
   "cell_type": "code",
   "execution_count": 51,
   "metadata": {},
   "outputs": [
    {
     "name": "stdout",
     "output_type": "stream",
     "text": [
      "3.1622776601683795\n"
     ]
    }
   ],
   "source": [
    "result = math.sqrt(10)\n",
    "print(result)"
   ]
  },
  {
   "cell_type": "markdown",
   "metadata": {},
   "source": [
    "**Note:** It's important to note that the statement math.sqrt(10) would NOT actually display anything, or be assigned to anything, if it were written exactly like that in a script. Jupyter Notebooks is like an interpreter, so when we type math.sqrt(10), it will display the result. But in a script, we would have to assign it to a variable and do something with the variable in order for it to actually do anything.\n",
    "\n",
    "Does this make sense?"
   ]
  },
  {
   "cell_type": "markdown",
   "metadata": {},
   "source": [
    "**Pop Quiz:**\n",
    "\n",
    "Which of the following statements will display a result in Jupyter Notebooks? Which of the following statements will display a result if written in a script?\n",
    "\n",
    "1. print('Hello World!')\n",
    "\n",
    "2. type(32)\n",
    "\n",
    "3. math.pi()\n",
    "\n",
    "4. int('123')\n",
    "\n",
    "5. result = 2 + 3"
   ]
  },
  {
   "cell_type": "markdown",
   "metadata": {},
   "source": [
    "#### Returning a Result from a Function\n",
    "\n",
    "If we create our own function, and we want to return a result from it, we can use the *return* statement.\n",
    "\n",
    "    def my_function(bob):\n",
    "        bob = bob * 10\n",
    "        return bob\n",
    "        \n"
   ]
  },
  {
   "cell_type": "code",
   "execution_count": 52,
   "metadata": {},
   "outputs": [
    {
     "data": {
      "text/plain": [
       "251"
      ]
     },
     "execution_count": 52,
     "metadata": {},
     "output_type": "execute_result"
    }
   ],
   "source": [
    "def my_function(bob):\n",
    "    bob = bob + 1\n",
    "    return bob\n",
    "\n",
    "my_function(250)"
   ]
  },
  {
   "cell_type": "markdown",
   "metadata": {},
   "source": [
    "**Pop Quiz:** Is the returned result from the above function displayed if it were run in a script? Why or why not?"
   ]
  }
 ],
 "metadata": {
  "kernelspec": {
   "display_name": "Python 3",
   "language": "python",
   "name": "python3"
  },
  "language_info": {
   "codemirror_mode": {
    "name": "ipython",
    "version": 3
   },
   "file_extension": ".py",
   "mimetype": "text/x-python",
   "name": "python",
   "nbconvert_exporter": "python",
   "pygments_lexer": "ipython3",
   "version": "3.6.1"
  }
 },
 "nbformat": 4,
 "nbformat_minor": 2
}
