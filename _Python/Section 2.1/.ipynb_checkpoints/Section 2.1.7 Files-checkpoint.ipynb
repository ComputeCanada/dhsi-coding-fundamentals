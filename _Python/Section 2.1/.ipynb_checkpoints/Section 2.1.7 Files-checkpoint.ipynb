{
 "cells": [
  {
   "cell_type": "markdown",
   "metadata": {},
   "source": [
    "# Section 2.1.7 Files"
   ]
  },
  {
   "cell_type": "markdown",
   "metadata": {},
   "source": [
    "### 1. Opening Files\n",
    "\n",
    "Obviously, if we want to read or write a **file**, we first have to open that **file**. The **open()** function does just that."
   ]
  },
  {
   "cell_type": "code",
   "execution_count": null,
   "metadata": {
    "collapsed": true
   },
   "outputs": [],
   "source": [
    "  "
   ]
  },
  {
   "cell_type": "markdown",
   "metadata": {},
   "source": [
    "In this case, we assigned the open **file** to a variable named *file1*. But the variable *file1* doesn't actually contain the contents of the file. Instead, it contains something called the *file handle*. \n",
    "\n",
    "A *file handle* will be created if and only if there were not errors opening the **file**. If opening the **file** was not successful, a *traceback* error message will be displayed."
   ]
  },
  {
   "cell_type": "code",
   "execution_count": 1,
   "metadata": {},
   "outputs": [],
   "source": [
    "# Successful file open.\n",
    "\n",
    "\n",
    "\n",
    "# Unsuccessful file open.\n",
    "\n"
   ]
  },
  {
   "cell_type": "markdown",
   "metadata": {},
   "source": [
    "In the case of the unsuccessful **file** open, you don't even have to attempt to print a handle to see it failed.\n",
    "\n",
    "Technically the **open()** function can receive two arguments: the name of the **file** to be opened, and a character indicating the purpose for which the **file** is being opened. \n",
    "\n",
    "    file_being_opened = open(filename, '-')\n",
    "    \n",
    "When a **file** is open without the second argument, it defaults to 'r' which means *read only*."
   ]
  },
  {
   "cell_type": "markdown",
   "metadata": {},
   "source": [
    "### 2. Text Files & Lines\n",
    "\n",
    "Remember how a string is simply a sequence of characters? Well, a **file** is a sequence of lines. As humans, we see a string as a word or a sentence. And, as humans, we see a **file** as many sentences, or paragraphs, or a data set, or a book, or ... etc.\n",
    "\n",
    "Unlike a string, a **file** contains multiple lines, each ending with the *newline* character --> **\\n**. Because a *newline* is considered a character, it has to be counted in the length of a line (or string).\n",
    "\n",
    "For example, if you read the following line of text from a **file**, the **\\n** counts as the 10th character. (The backslash and the 'n' are considered one character, not two.)\n",
    "\n",
    "'123456789\\n'"
   ]
  },
  {
   "cell_type": "markdown",
   "metadata": {},
   "source": [
    "### 3. Reading Files\n",
    "\n",
    "We can use the *file handle* to help us count the lines of a **file** using a *for loop*."
   ]
  },
  {
   "cell_type": "code",
   "execution_count": null,
   "metadata": {},
   "outputs": [],
   "source": []
  },
  {
   "cell_type": "markdown",
   "metadata": {},
   "source": [
    "It's important to note that when a **file** is opened, the actual data from that **file** is not read and saved in your computer's temporary memory (i.e., RAM). Something similar happens when a **file** is read using the above *for loop*. Each line of the **file** is read, counted, and then deleted from memory.\n",
    "\n",
    "When we use the actual **read()** function for a **file**, each and every line of that **file** is read and saved in temporary memory. If the **file** is massive, this can cause problems -- you might find your computer slows down or stops working, or you might find it hard to open and use other programs at the same time."
   ]
  },
  {
   "cell_type": "code",
   "execution_count": null,
   "metadata": {},
   "outputs": [],
   "source": []
  },
  {
   "cell_type": "code",
   "execution_count": 2,
   "metadata": {},
   "outputs": [],
   "source": [
    "# This particular file isn't big, so saving the whole thing in temporary memory won't cause a problem.\n",
    "# And because it's small, we can print the whole thing.\n",
    "\n"
   ]
  },
  {
   "cell_type": "markdown",
   "metadata": {},
   "source": [
    "The variable 'file4' contains the *file handle*. But the variable 'contents_of_file4' is a **string**. When a **file** is read using the **read()** function, it assigns the contents of the **file** to a one big long **string**. Therefore, the variable that is assigned the results of the **read()** function can be manipulated using any of the **string** functions/methods.\n",
    "\n",
    "Remember, when printed out, the **file** contents appear on separate lines because of the **\\n** *newline* character. But in the **string** variable, the *newline* character is just another character in a long list of characters in that **string**."
   ]
  },
  {
   "cell_type": "markdown",
   "metadata": {},
   "source": [
    "### 4. Searching Files\n",
    "\n",
    "We can now use a combination of all we've learned above, plus *string methods* to read and display certain parts of the **file**."
   ]
  },
  {
   "cell_type": "code",
   "execution_count": null,
   "metadata": {},
   "outputs": [],
   "source": []
  },
  {
   "cell_type": "markdown",
   "metadata": {},
   "source": [
    "In the above example, we used the *startswith* string method to look for any line that started with 't', 'h', and 'e' -- as opposed to the word 'the'. As you can see in the results, it includes lines that start with 'the' as part of another word.\n",
    "\n",
    "If we want to exclude all words except 'the', we can add a space to the end of 'the'."
   ]
  },
  {
   "cell_type": "code",
   "execution_count": null,
   "metadata": {},
   "outputs": [],
   "source": []
  },
  {
   "cell_type": "markdown",
   "metadata": {},
   "source": [
    "**Pop Quiz:** *What else do you notice about the result?*"
   ]
  },
  {
   "cell_type": "markdown",
   "metadata": {},
   "source": [
    "**Answer 1:** *The results only include 'the' with a lowercase 't'. If the line started with 'The', they were not included. This is where regular expressions might come in handy!\n",
    "\n",
    "**Answer 2:** *The results also include a blank line between each line of text. This is because: (1) each line of the text file already includes a newline character at the end, and (2) the print() function adds a second newline character to the end of each line.*"
   ]
  },
  {
   "cell_type": "markdown",
   "metadata": {},
   "source": [
    "**Pop Quiz:** *What string method could we use to remove the newline method that's automatically included in the file?*"
   ]
  },
  {
   "cell_type": "code",
   "execution_count": null,
   "metadata": {},
   "outputs": [],
   "source": []
  },
  {
   "cell_type": "markdown",
   "metadata": {},
   "source": [
    "There is another search method we can use to look for specific items within the **file**, the **find()** string method.\n",
    "\n",
    "**find()** looks for a specific piece of text, but it doesn't return the line with the text, it returns the position of the line of text. Or, if it doesn't find the item you're searching for, it will return -1. We can use the fact that it returns -1 for all lines that don't meet our criteria in a *for loop*."
   ]
  },
  {
   "cell_type": "code",
   "execution_count": null,
   "metadata": {},
   "outputs": [],
   "source": []
  },
  {
   "cell_type": "markdown",
   "metadata": {},
   "source": [
    "Instead of asking Python to search for a specific piece of text in the **file** and displaying any line that contains that text -- which would be impossible, because we don't know what lines that piece of text will be found on -- we can tell Python to SKIP any lines that do NOT contain the text we're looking for. \n",
    "\n",
    "Because 'continue' appears before 'print(line)', only lines that do NOT meet the if statement's criteria will be printed. All other lines will cause the *for loop* to go to the next iteration."
   ]
  },
  {
   "cell_type": "markdown",
   "metadata": {},
   "source": [
    "### 5. Using \"try\" and \"except\" with \"open\"\n",
    "\n",
    "When we open a **file** using the code we've already seen, the code will return an error message if the name of the **file** is incorrect. However, there may be situations when we want to make sure the **file** exists before we attempt to open it."
   ]
  },
  {
   "cell_type": "code",
   "execution_count": null,
   "metadata": {},
   "outputs": [],
   "source": []
  },
  {
   "cell_type": "markdown",
   "metadata": {},
   "source": [
    "In the above example, the **sys.exit()** function (which is part of the **sys** module you need to import) will cause the Python script to stop running, as opposed to displaying an error message. This may be helpful if you've asked the user to provide you with a filename, and you want to tell them a **file** with that name doesn't exist."
   ]
  },
  {
   "cell_type": "code",
   "execution_count": null,
   "metadata": {},
   "outputs": [],
   "source": []
  },
  {
   "cell_type": "markdown",
   "metadata": {},
   "source": [
    "### 6. Writing to Files\n",
    "\n",
    "So far we've opened **files**, counted lines and characters within **files**, read **files**, and printed the content of a **file**. But what happens if you want to add something to a new or existing **file**?\n",
    "\n",
    "This is where the second argument in the **open()** function comes into play. As mentioned earlier, the default argument is 'r', which is *read only*. There are other arguments:\n",
    "\n",
    "'w' --> opens an existing **file**, deletes the contents, and allows you to save new data to the **file** OR creates a new, empty file\n",
    "\n",
    "'a' --> opens an existing **file** and allows you to append data to the end of the **file**\n",
    "\n",
    "'x' --> checks if a **file** with that name already exists: if it doesn't, it creates a new **file** to write to; if it does, stops"
   ]
  },
  {
   "cell_type": "code",
   "execution_count": 3,
   "metadata": {
    "collapsed": true
   },
   "outputs": [],
   "source": [
    "# Notice that I'm not using the same text file as above because the 'w' argument will delete it.\n",
    "\n"
   ]
  },
  {
   "cell_type": "markdown",
   "metadata": {},
   "source": [
    "As you can see, using the 'w' argument might actually be somewhat dangerous. To save yourself the pain of accidentally deleting your data, it's better to use 'a' or 'x'."
   ]
  },
  {
   "cell_type": "code",
   "execution_count": null,
   "metadata": {},
   "outputs": [],
   "source": []
  },
  {
   "cell_type": "code",
   "execution_count": null,
   "metadata": {
    "collapsed": true
   },
   "outputs": [],
   "source": []
  },
  {
   "cell_type": "markdown",
   "metadata": {},
   "source": [
    "Now we're ready to write data to the file we've opened. Conveniently enough, there's a function called **write()** that does just this! \n",
    "\n",
    "The **write()** function is part of the *file handle object*, so you need to start the function with the **file** variable name and a dot (.).\n",
    "\n",
    "If the **write()** function is successful, it returns the number of characters it added to the **file**."
   ]
  },
  {
   "cell_type": "code",
   "execution_count": null,
   "metadata": {},
   "outputs": [],
   "source": []
  },
  {
   "cell_type": "code",
   "execution_count": null,
   "metadata": {},
   "outputs": [],
   "source": []
  },
  {
   "cell_type": "markdown",
   "metadata": {},
   "source": [
    "### 7. Closing Files\n",
    "\n",
    "Once we're all done with our **files**, it's a good idea to close them before the program ends. This is especially important if we've performed the **write()** function.\n",
    "\n",
    "We simply use the **close()** function, which is also a *file handle object*."
   ]
  },
  {
   "cell_type": "code",
   "execution_count": null,
   "metadata": {
    "collapsed": true
   },
   "outputs": [],
   "source": []
  }
 ],
 "metadata": {
  "kernelspec": {
   "display_name": "Python 3",
   "language": "python",
   "name": "python3"
  },
  "language_info": {
   "codemirror_mode": {
    "name": "ipython",
    "version": 3
   },
   "file_extension": ".py",
   "mimetype": "text/x-python",
   "name": "python",
   "nbconvert_exporter": "python",
   "pygments_lexer": "ipython3",
   "version": "3.6.1"
  }
 },
 "nbformat": 4,
 "nbformat_minor": 2
}
