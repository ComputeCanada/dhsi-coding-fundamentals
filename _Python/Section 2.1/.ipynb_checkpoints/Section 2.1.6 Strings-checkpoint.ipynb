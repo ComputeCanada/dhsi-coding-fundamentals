{
 "cells": [
  {
   "cell_type": "markdown",
   "metadata": {
    "collapsed": true
   },
   "source": [
    "# Section 2.1.6 Strings"
   ]
  },
  {
   "cell_type": "markdown",
   "metadata": {},
   "source": [
    "## 1. What is a string?\n",
    "\n",
    "A **string** is simply a sequence of characters. Humans may look at a **string** and see a word or a sentence, but all the computer sees is a list of alpha-numeric (plus other) characters.\n",
    "\n",
    "We've already done a lot of things with **strings**. We've displayed them on the screen with the *print()* function. We've changed a **string** of numbers to an integer or a floating point number using type conversion functions. And we've asked a user to give us a **string** to use with the *input()* function.\n",
    "\n",
    "So far we've used **strings** like they were words or sentences. Now we're going to think like the computer and look at **strings** like they're a sequence of characters.\n",
    "\n",
    "### String Indices\n",
    "\n",
    "If there's one thing about **strings** that you take awake from today's lesson, it should be that when referencing each character in a **string**, using its *index*, you must start at 0. The first character in a **string** is **NOT** 1."
   ]
  },
  {
   "cell_type": "code",
   "execution_count": null,
   "metadata": {},
   "outputs": [],
   "source": []
  },
  {
   "cell_type": "markdown",
   "metadata": {},
   "source": [
    "**Pop Quiz:** *What would be displayed if we asked for the 5th character in a string that was this sentence?*"
   ]
  },
  {
   "cell_type": "code",
   "execution_count": null,
   "metadata": {},
   "outputs": [],
   "source": []
  },
  {
   "cell_type": "markdown",
   "metadata": {},
   "source": [
    "## 2. LEN Function\n",
    "\n",
    "If you want to somehow analyze a **string**, or put it in a loop, it might be useful to know how long the string is. That way you know how many charcter idices you need to reference.\n",
    "\n",
    "Keep in mind, however, that the **len()** function returns a length that counts the characters as if the first charater was a 1. "
   ]
  },
  {
   "cell_type": "code",
   "execution_count": null,
   "metadata": {},
   "outputs": [],
   "source": []
  },
  {
   "cell_type": "markdown",
   "metadata": {},
   "source": [
    "The **strig** \"holiday\" has 7 characters in it -- 'h' is character 1, 'o' is character 2, etc. 'h' is NOT character 0.\n",
    "\n",
    "You can now get creative knowing how to get the length of a **string** and specific letters within a string."
   ]
  },
  {
   "cell_type": "code",
   "execution_count": null,
   "metadata": {},
   "outputs": [],
   "source": []
  },
  {
   "cell_type": "markdown",
   "metadata": {},
   "source": [
    "Because the **len()** function returns an integer, we can add or subtract from its assigned variable to find specific characters."
   ]
  },
  {
   "cell_type": "markdown",
   "metadata": {},
   "source": [
    "## 3. Traversing a String\n",
    "\n",
    "As mentioned earlier, because a **string** is a sequence of characters, there may come a time when you want to loop through a **string**, advancing one character at a time. We can do this with a **while** loop."
   ]
  },
  {
   "cell_type": "code",
   "execution_count": null,
   "metadata": {},
   "outputs": [],
   "source": []
  },
  {
   "cell_type": "markdown",
   "metadata": {},
   "source": [
    "**Pop Quiz:** *Why wouldn't we ask the while loop to iterate until the index was less than or equal to the length of the string?*\n",
    "\n",
    "Here's another useful way to use **while** loops to traverse through **string**."
   ]
  },
  {
   "cell_type": "code",
   "execution_count": null,
   "metadata": {},
   "outputs": [],
   "source": [
    "    "
   ]
  },
  {
   "cell_type": "markdown",
   "metadata": {},
   "source": [
    "## 4. String Slices\n",
    "\n",
    "In addition to selecting one character within a **string**, using that character's index, we can also select a series of characters in a **string**. This series of characters from a **string** is called a **slice**.\n",
    "\n"
   ]
  },
  {
   "cell_type": "code",
   "execution_count": null,
   "metadata": {},
   "outputs": [],
   "source": []
  },
  {
   "cell_type": "markdown",
   "metadata": {},
   "source": [
    "We can also use this syntax with only one number."
   ]
  },
  {
   "cell_type": "code",
   "execution_count": null,
   "metadata": {},
   "outputs": [],
   "source": []
  },
  {
   "cell_type": "markdown",
   "metadata": {},
   "source": [
    "**Pop Quiz:** *What happens when you exclude both indices, but still include the colon?*"
   ]
  },
  {
   "cell_type": "code",
   "execution_count": null,
   "metadata": {},
   "outputs": [],
   "source": []
  },
  {
   "cell_type": "markdown",
   "metadata": {},
   "source": [
    "## 5. String are Immutable\n",
    "\n",
    "When something is immutable, it means it cannot be changed.\n",
    "\n",
    "For example, I can assign a **string** to a variable. But I cannot use an index reference to change a character in a **string**."
   ]
  },
  {
   "cell_type": "code",
   "execution_count": null,
   "metadata": {},
   "outputs": [],
   "source": []
  },
  {
   "cell_type": "markdown",
   "metadata": {},
   "source": [
    "In the above situation, if we really wanted to change 'I' to 'We', we'd have to get kind of creative."
   ]
  },
  {
   "cell_type": "code",
   "execution_count": null,
   "metadata": {},
   "outputs": [],
   "source": []
  },
  {
   "cell_type": "markdown",
   "metadata": {},
   "source": [
    "In this example, we're not changing the **string**, we're manipulating it to get what we want. If we wanted to keep this new **string**, we could assign it to a new variable."
   ]
  },
  {
   "cell_type": "markdown",
   "metadata": {},
   "source": [
    "## 6. The IN Operator\n",
    "\n",
    "In an above example, we used a **while** loop to find all the 's' characters in a **string**. This is useful if we need to know how many s's there are, but what if we just want to know if 's' exists within the **string** and we don't care how many times it appears? We can use the **in** operator.\n",
    "\n",
    "**in** is an operator because it works like a plus sign (+) or a minus sign (-). It is not a function. And, the **in** operator only returns True or False."
   ]
  },
  {
   "cell_type": "code",
   "execution_count": null,
   "metadata": {},
   "outputs": [],
   "source": []
  },
  {
   "cell_type": "code",
   "execution_count": null,
   "metadata": {},
   "outputs": [],
   "source": []
  },
  {
   "cell_type": "code",
   "execution_count": null,
   "metadata": {},
   "outputs": [],
   "source": []
  },
  {
   "cell_type": "markdown",
   "metadata": {},
   "source": [
    "## 7. String Methods\n",
    "\n",
    "In Python, a **string** is considered an *object*. *Objects* contain both data and *methods* that can be used to manipulate the data. *Methods* are basically built-in functions for the *object*.\n",
    "\n",
    "Python has a **type()** function that returns the type of the *object* provided as the argument. But Python also has a **dir()** function that lists all the *methods* associated with the *object*.\n",
    "\n"
   ]
  },
  {
   "cell_type": "code",
   "execution_count": null,
   "metadata": {},
   "outputs": [],
   "source": []
  },
  {
   "cell_type": "code",
   "execution_count": null,
   "metadata": {},
   "outputs": [],
   "source": []
  },
  {
   "cell_type": "markdown",
   "metadata": {},
   "source": [
    "Even better, Python has a **help()** function that will tell you a little about a specific *function* and how to use it.\n",
    "\n",
    "Of course, the Python website and Python books will have more detailed explanations and examples, but this is a great starting point."
   ]
  },
  {
   "cell_type": "code",
   "execution_count": null,
   "metadata": {},
   "outputs": [],
   "source": []
  },
  {
   "cell_type": "code",
   "execution_count": null,
   "metadata": {},
   "outputs": [],
   "source": []
  },
  {
   "cell_type": "markdown",
   "metadata": {},
   "source": [
    "In the example above, I used the **help()** function two different ways. The first way I called **help()** with an argument of 'str.strip'. This is similar to calling a function that is part of an imported module or library. In this case, the 'str' part of the argument represents the *object* and the 'strip' part of the argument represents the *function*. \n",
    "\n",
    "The second **help()** example does the exact same thing, but instead of using the generic *object* 'str', I used a known **string** variable, or 'another_string'.\n",
    "\n",
    "When calling *methods*, you must always start the call with the name of the *object* you're referring to, then a dot (.), then the name of the *method*.\n",
    "\n",
    "    object.method()\n",
    "\n",
    "Sometimes the *method* will take an argument within the brackets, sometimes it doesn't. For example, the *method* 'strip' can take a 'chars' argument, if you want to give it. But it will work without an argument."
   ]
  },
  {
   "cell_type": "code",
   "execution_count": null,
   "metadata": {},
   "outputs": [],
   "source": []
  },
  {
   "cell_type": "code",
   "execution_count": null,
   "metadata": {},
   "outputs": [],
   "source": []
  },
  {
   "cell_type": "code",
   "execution_count": null,
   "metadata": {},
   "outputs": [],
   "source": []
  },
  {
   "cell_type": "markdown",
   "metadata": {},
   "source": [
    "**ADD MORE EXAMPLES**"
   ]
  },
  {
   "cell_type": "markdown",
   "metadata": {},
   "source": [
    "## 8. Parsing Strings\n",
    "\n",
    "Sometimes, like when doing text analysis, we might want to look at a large **string** and extract only a specific part of that **string**. We can do this by combining **string** slicing and **string** *methods*.\n",
    "\n"
   ]
  },
  {
   "cell_type": "code",
   "execution_count": null,
   "metadata": {},
   "outputs": [],
   "source": []
  },
  {
   "cell_type": "markdown",
   "metadata": {},
   "source": []
  }
 ],
 "metadata": {
  "kernelspec": {
   "display_name": "Python 3",
   "language": "python",
   "name": "python3"
  },
  "language_info": {
   "codemirror_mode": {
    "name": "ipython",
    "version": 3
   },
   "file_extension": ".py",
   "mimetype": "text/x-python",
   "name": "python",
   "nbconvert_exporter": "python",
   "pygments_lexer": "ipython3",
   "version": "3.6.1"
  }
 },
 "nbformat": 4,
 "nbformat_minor": 2
}
