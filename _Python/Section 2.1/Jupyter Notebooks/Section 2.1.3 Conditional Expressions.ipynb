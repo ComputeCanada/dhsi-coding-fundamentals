{
 "cells": [
  {
   "cell_type": "markdown",
   "metadata": {},
   "source": [
    "# 2.1.3 Conditional Expressions, i.e., IF statements"
   ]
  },
  {
   "cell_type": "markdown",
   "metadata": {},
   "source": [
    "## 1. Boolean Expressions\n",
    "\n",
    "**Boolean Expression** = An **expression** that is either true or false.\n",
    "\n",
    "The == *operator* compares two operands and produces a response of either True or False. In other words, it is Python's version of an equal sign.\n",
    "\n",
    "True and False are also considered a *type*."
   ]
  },
  {
   "cell_type": "code",
   "execution_count": 1,
   "metadata": {},
   "outputs": [
    {
     "data": {
      "text/plain": [
       "bool"
      ]
     },
     "execution_count": 1,
     "metadata": {},
     "output_type": "execute_result"
    }
   ],
   "source": [
    "type(True)"
   ]
  },
  {
   "cell_type": "code",
   "execution_count": 2,
   "metadata": {},
   "outputs": [
    {
     "data": {
      "text/plain": [
       "bool"
      ]
     },
     "execution_count": 2,
     "metadata": {},
     "output_type": "execute_result"
    }
   ],
   "source": [
    "type(False)"
   ]
  },
  {
   "cell_type": "code",
   "execution_count": 3,
   "metadata": {},
   "outputs": [
    {
     "data": {
      "text/plain": [
       "True"
      ]
     },
     "execution_count": 3,
     "metadata": {},
     "output_type": "execute_result"
    }
   ],
   "source": [
    "5 == 5"
   ]
  },
  {
   "cell_type": "code",
   "execution_count": 4,
   "metadata": {},
   "outputs": [
    {
     "data": {
      "text/plain": [
       "False"
      ]
     },
     "execution_count": 4,
     "metadata": {},
     "output_type": "execute_result"
    }
   ],
   "source": [
    "5 == 6"
   ]
  },
  {
   "cell_type": "markdown",
   "metadata": {},
   "source": [
    "In addition to the == *operator*, you can also use the following *operators* to determine a Boolean value.\n",
    "\n",
    "1. x != y means x is not equal to y\n",
    "2. x > y means x is greater than y\n",
    "3. x < y means x is less than y\n",
    "4. x >= y means x is greater than or equal to y\n",
    "5. x <= y means x is less than or equal to y\n",
    "\n",
    "And you can use the following words as *operators*.\n",
    "\n",
    "6. x is y \n",
    "7. x is not y"
   ]
  },
  {
   "cell_type": "code",
   "execution_count": 5,
   "metadata": {},
   "outputs": [
    {
     "data": {
      "text/plain": [
       "True"
      ]
     },
     "execution_count": 5,
     "metadata": {},
     "output_type": "execute_result"
    }
   ],
   "source": [
    "6 >= 4"
   ]
  },
  {
   "cell_type": "code",
   "execution_count": 6,
   "metadata": {},
   "outputs": [
    {
     "data": {
      "text/plain": [
       "True"
      ]
     },
     "execution_count": 6,
     "metadata": {},
     "output_type": "execute_result"
    }
   ],
   "source": [
    "6 != 4"
   ]
  },
  {
   "cell_type": "code",
   "execution_count": 7,
   "metadata": {},
   "outputs": [
    {
     "data": {
      "text/plain": [
       "True"
      ]
     },
     "execution_count": 7,
     "metadata": {},
     "output_type": "execute_result"
    }
   ],
   "source": [
    "5 is not 6"
   ]
  },
  {
   "cell_type": "code",
   "execution_count": 8,
   "metadata": {},
   "outputs": [
    {
     "data": {
      "text/plain": [
       "False"
      ]
     },
     "execution_count": 8,
     "metadata": {},
     "output_type": "execute_result"
    }
   ],
   "source": [
    "5 is 6"
   ]
  },
  {
   "cell_type": "code",
   "execution_count": null,
   "metadata": {
    "collapsed": true
   },
   "outputs": [],
   "source": []
  },
  {
   "cell_type": "code",
   "execution_count": null,
   "metadata": {
    "collapsed": true
   },
   "outputs": [],
   "source": []
  },
  {
   "cell_type": "code",
   "execution_count": null,
   "metadata": {
    "collapsed": true
   },
   "outputs": [],
   "source": []
  },
  {
   "cell_type": "code",
   "execution_count": null,
   "metadata": {
    "collapsed": true
   },
   "outputs": [],
   "source": []
  },
  {
   "cell_type": "markdown",
   "metadata": {},
   "source": [
    "## 2. Logical Operators\n",
    "\n",
    "**Logical Operators** = AND, OR, NOT\n",
    "\n",
    "For the librarians in the room, boolean and **logical operators** are going to be very familiar. The AND, OR, and NOT **operators** allow you to combine comparisons in your code like:\n",
    "\n",
    "Only do [whatever] if x is greater than 0 and x is less than 10.\n",
    "\n",
    "Only do [whatever] if x is greater than 0 or x is less than 10.\n",
    "\n",
    "Only do [whatever] if x is not greater than 0."
   ]
  },
  {
   "cell_type": "code",
   "execution_count": 11,
   "metadata": {},
   "outputs": [
    {
     "data": {
      "text/plain": [
       "True"
      ]
     },
     "execution_count": 11,
     "metadata": {},
     "output_type": "execute_result"
    }
   ],
   "source": [
    "## Note: I tend to use brackets because it's easier to read the expression, but they are not required.\n",
    "\n",
    "(2 > 1) and (1 == 1)"
   ]
  },
  {
   "cell_type": "code",
   "execution_count": 12,
   "metadata": {},
   "outputs": [
    {
     "data": {
      "text/plain": [
       "True"
      ]
     },
     "execution_count": 12,
     "metadata": {},
     "output_type": "execute_result"
    }
   ],
   "source": [
    "(2 > 1) or (1 == 2)"
   ]
  },
  {
   "cell_type": "code",
   "execution_count": 13,
   "metadata": {},
   "outputs": [
    {
     "data": {
      "text/plain": [
       "False"
      ]
     },
     "execution_count": 13,
     "metadata": {},
     "output_type": "execute_result"
    }
   ],
   "source": [
    "not 10 > 1"
   ]
  },
  {
   "cell_type": "code",
   "execution_count": null,
   "metadata": {
    "collapsed": true
   },
   "outputs": [],
   "source": []
  },
  {
   "cell_type": "code",
   "execution_count": null,
   "metadata": {
    "collapsed": true
   },
   "outputs": [],
   "source": []
  },
  {
   "cell_type": "code",
   "execution_count": null,
   "metadata": {
    "collapsed": true
   },
   "outputs": [],
   "source": []
  },
  {
   "cell_type": "markdown",
   "metadata": {},
   "source": [
    "### The Quirkiness of Python\n",
    "\n",
    "Python computes a logical **expression** in the order in which they were typed (if there's more than one). If the first part of the logical **expression** is **False**, Python STOPS processing the rest of the **expression**.\n",
    "\n",
    "For example: \n",
    "\n",
    "    x = 6\n",
    "    y = 2\n",
    "    (x >= 2) and (x / y > 2)\n",
    "    \n",
    "    Result = True because 6 is greater than or equal to 2, and 6 divided by 2 is greater than 2.\n",
    "    \n",
    "    x = 1\n",
    "    y = 0\n",
    "    (x >= 2) and (x / y > 2)\n",
    "    \n",
    "    Result ?\n",
    "    \n",
    "    x = 6\n",
    "    y = 0\n",
    "    (x >= 2) and (x / y > 2)\n",
    "    \n",
    "    Result ?\n"
   ]
  },
  {
   "cell_type": "code",
   "execution_count": 14,
   "metadata": {},
   "outputs": [
    {
     "data": {
      "text/plain": [
       "True"
      ]
     },
     "execution_count": 14,
     "metadata": {},
     "output_type": "execute_result"
    }
   ],
   "source": [
    "x = 6\n",
    "y = 2\n",
    "(x >= 2) and (x / y > 2)"
   ]
  },
  {
   "cell_type": "code",
   "execution_count": 16,
   "metadata": {},
   "outputs": [
    {
     "data": {
      "text/plain": [
       "False"
      ]
     },
     "execution_count": 16,
     "metadata": {},
     "output_type": "execute_result"
    }
   ],
   "source": [
    "(1 >= 2) and (1 / 0 > 2)"
   ]
  },
  {
   "cell_type": "code",
   "execution_count": 17,
   "metadata": {},
   "outputs": [
    {
     "ename": "ZeroDivisionError",
     "evalue": "division by zero",
     "output_type": "error",
     "traceback": [
      "\u001b[0;31m---------------------------------------------------------------------------\u001b[0m",
      "\u001b[0;31mZeroDivisionError\u001b[0m                         Traceback (most recent call last)",
      "\u001b[0;32m<ipython-input-17-3bc938d12c9f>\u001b[0m in \u001b[0;36m<module>\u001b[0;34m()\u001b[0m\n\u001b[0;32m----> 1\u001b[0;31m \u001b[0;34m(\u001b[0m\u001b[0;36m3\u001b[0m \u001b[0;34m>=\u001b[0m \u001b[0;36m2\u001b[0m\u001b[0;34m)\u001b[0m \u001b[0;32mand\u001b[0m \u001b[0;34m(\u001b[0m\u001b[0;36m1\u001b[0m\u001b[0;34m/\u001b[0m\u001b[0;36m0\u001b[0m \u001b[0;34m>\u001b[0m \u001b[0;36m2\u001b[0m\u001b[0;34m)\u001b[0m\u001b[0;34m\u001b[0m\u001b[0m\n\u001b[0m",
      "\u001b[0;31mZeroDivisionError\u001b[0m: division by zero"
     ]
    }
   ],
   "source": [
    "(3 >= 2) and (1/0 > 2)"
   ]
  },
  {
   "cell_type": "markdown",
   "metadata": {},
   "source": [
    "Why did the second **logical expression** result in a False, but the third result in an error?\n",
    "\n",
    "In the first example, Python processed both the first and second **logical expressions** because the first **expression** was True.\n",
    "\n",
    "In the second example, Python processed ONLY the first **logical expression** and STOPPED because the first **expression** was False. This is called *short-circuiting*.\n",
    "\n",
    "In the third example, Python process both the first and second **logical expressions** because the first **expression** was True. However, it produced an error for the second **logical expression** because you cannot divide by 0.\n",
    "\n",
    "#### Guardian Patterns\n",
    "\n",
    "In order to prevent weird situations like above, we can use **guards**.\n",
    "\n",
    "    x = 6\n",
    "    y = 0\n",
    "    (x >= 2) and (y != 0) and (x / y > 2)\n",
    "    \n",
    "The (y != 0) is the guard. It makes sure we do not proceed to (x / y > 2) if y is 0. And thus, prevents an error message from being produced.\n",
    "\n",
    "This may not seem like a big deal now, but when you have a massive program with multiple calculations and you get an error message because of a small quirky thing like this, you might drive yourself crazy trying to figure out where the problem is. By making sure you use *guards* right from the beginning, you'll save yourself a lot of stress in the future!"
   ]
  },
  {
   "cell_type": "code",
   "execution_count": null,
   "metadata": {
    "collapsed": true
   },
   "outputs": [],
   "source": [
    "x = 6\n",
    "y = 0\n",
    "\n",
    "(x >= 2) and (y != 0) and (x/y >2)"
   ]
  },
  {
   "cell_type": "code",
   "execution_count": 2,
   "metadata": {
    "collapsed": true
   },
   "outputs": [],
   "source": [
    "# Note: The (y != 0) expression MUST be before the (x / y > 2) expression or this will happen:\n",
    "\n"
   ]
  },
  {
   "cell_type": "markdown",
   "metadata": {},
   "source": [
    "## 3. Conditional Execution\n",
    "\n",
    "You will probably find yourself using **conditional statements** a lot. Basically, a **conditional statement** allows us to check if a specific condition exists. If it does exist, we can tell the program to do one thing. And if it does not exist, we can tell the program to do something else.\n",
    "\n",
    "The easiest way to use a conditional statement is to use the **if** statement.\n",
    "\n",
    "    if [my variable] meets condition 1:\n",
    "        then do the following\n",
    "        \n",
    "The line where you're checking whether or not a condition exists (i.e. the line that starts with 'if') always ends with a colon (:). The line that then executes whatever you want to do IF the condition is met, must always be indented."
   ]
  },
  {
   "cell_type": "code",
   "execution_count": 18,
   "metadata": {},
   "outputs": [
    {
     "name": "stdout",
     "output_type": "stream",
     "text": [
      "This is true.\n"
     ]
    }
   ],
   "source": [
    "# Condition met.\n",
    "\n",
    "x = 10\n",
    "\n",
    "if x > 0:\n",
    "    print(\"This is true.\")"
   ]
  },
  {
   "cell_type": "code",
   "execution_count": 21,
   "metadata": {},
   "outputs": [],
   "source": [
    "# Condition not met.\n",
    "\n",
    "x = -2\n",
    "\n",
    "if x > 0:\n",
    "    print(\"This is true.\")"
   ]
  },
  {
   "cell_type": "markdown",
   "metadata": {},
   "source": [
    "You'll notice that when the condition is NOT met, nothing happens. That's because we haven't told the program what to do if the condition is false. So, it simply ends."
   ]
  },
  {
   "cell_type": "markdown",
   "metadata": {},
   "source": [
    "## 4. Alternative Execution\n",
    "\n",
    "An **alternative execution** includes a **conditional statement**, like the above examples, but it also provides the program with an action to execute if the condition is NOT met. In addition to checking the condition of a variable using an if statement, we're also going to include an else statement and subsequent action.\n",
    "\n",
    "    if [my variable] meets condition 1:\n",
    "        then do this\n",
    "    else:\n",
    "        do this\n",
    "        \n",
    "The 'else' must be at the same level of indentation as the 'if' and end with a colon (:). The action for the else part of the **conditional statement** must be indented."
   ]
  },
  {
   "cell_type": "code",
   "execution_count": 22,
   "metadata": {},
   "outputs": [
    {
     "name": "stdout",
     "output_type": "stream",
     "text": [
      "This is false.\n"
     ]
    }
   ],
   "source": [
    "x = -2\n",
    "\n",
    "if x > 0:\n",
    "    print(\"This is true.\")\n",
    "else:\n",
    "    print(\"This is false.\")"
   ]
  },
  {
   "cell_type": "markdown",
   "metadata": {},
   "source": [
    "**Tip:** When planning out a program (or solving a problem) it is very helpful to visualize the if/else statements in a flow chart format."
   ]
  },
  {
   "cell_type": "markdown",
   "metadata": {},
   "source": [
    "## 5. Chained Conditionals\n",
    "\n",
    "Now we can start to get really creative with **conditional statements**.\n",
    "\n",
    "A **chained conditional statement** checks for more than one possible condition being met. The second (and all subsequent) condition checks will use the word 'elif' -- which is also a reserved word.\n",
    "\n",
    "I say \"second (and all subsequent)\" because you can have an infinite number of 'elif' statements if you want. \n",
    "\n",
    "    if [my variable] meets condition 1:\n",
    "        do this\n",
    "    elif [my variable] meets condition 2:\n",
    "        do this\n",
    "    else:\n",
    "        do this"
   ]
  },
  {
   "cell_type": "code",
   "execution_count": 24,
   "metadata": {},
   "outputs": [
    {
     "name": "stdout",
     "output_type": "stream",
     "text": [
      "This is False\n"
     ]
    }
   ],
   "source": [
    "x = 0\n",
    "\n",
    "if x > 0:\n",
    "    print(\"This is true.\")\n",
    "elif x < 0:\n",
    "    print(\"something\")\n",
    "else:\n",
    "    print(\"This is False\")\n"
   ]
  },
  {
   "cell_type": "code",
   "execution_count": null,
   "metadata": {
    "collapsed": true
   },
   "outputs": [],
   "source": []
  },
  {
   "cell_type": "code",
   "execution_count": null,
   "metadata": {
    "collapsed": true
   },
   "outputs": [],
   "source": []
  },
  {
   "cell_type": "markdown",
   "metadata": {},
   "source": [
    "## 6. Nested Conditionals\n",
    "\n",
    "You may have noticed that while **chained conditionals** are useful, the conditions being checked for must be either/or. In other words, you cannot check that a variable meets more than 1 condition at a time. This is where **nested conditionals** become helpful.\n",
    "\n",
    "A **nested conditional** statement is essentially an if-statement embedded within an if-statement. For example:\n",
    "\n",
    "    if [my variable] meets condition 1a:\n",
    "        if [my variable] (also) meets condition 2:\n",
    "            then do response A\n",
    "    elif [my variable] meets condition 1b:\n",
    "        then do response B\n",
    "    else:\n",
    "        then do response C\n",
    "        \n",
    "In the above example, in order for response A to be produced, the variable must meet 2 conditions: 1a and 2. But, if the variable doesn't meet condition 1a, it isn't even checked if it meets condition 2, it moves onto check if it meets condition 1b instead."
   ]
  },
  {
   "cell_type": "code",
   "execution_count": 26,
   "metadata": {},
   "outputs": [
    {
     "name": "stdout",
     "output_type": "stream",
     "text": [
      "greater than 25, but not less than 35\n"
     ]
    }
   ],
   "source": [
    "x = 45\n",
    "\n",
    "if x >= 25:\n",
    "    if x <= 35:\n",
    "        print(\"between 25 and 35\")\n",
    "    else:\n",
    "        print(\"greater than 25, but not less than 35\")\n",
    "else:\n",
    "    print(\"not between 25 and 35\")\n",
    "\n",
    "\n",
    "\n",
    "\n",
    "\n"
   ]
  },
  {
   "cell_type": "code",
   "execution_count": 28,
   "metadata": {},
   "outputs": [
    {
     "data": {
      "text/plain": [
       "True"
      ]
     },
     "execution_count": 28,
     "metadata": {},
     "output_type": "execute_result"
    }
   ],
   "source": [
    "a = 500\n",
    "b = 500\n",
    "\n",
    "a == b\n",
    "#a is b"
   ]
  }
 ],
 "metadata": {
  "kernelspec": {
   "display_name": "Python 3",
   "language": "python",
   "name": "python3"
  },
  "language_info": {
   "codemirror_mode": {
    "name": "ipython",
    "version": 3
   },
   "file_extension": ".py",
   "mimetype": "text/x-python",
   "name": "python",
   "nbconvert_exporter": "python",
   "pygments_lexer": "ipython3",
   "version": "3.6.1"
  }
 },
 "nbformat": 4,
 "nbformat_minor": 2
}
