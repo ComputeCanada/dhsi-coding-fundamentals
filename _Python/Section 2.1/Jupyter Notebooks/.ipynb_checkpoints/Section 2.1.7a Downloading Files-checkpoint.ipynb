{
 "cells": [
  {
   "cell_type": "markdown",
   "metadata": {},
   "source": [
    "# Downloading Stuff from the Internet\n",
    "\n",
    "As you saw on Monday, we can use **curl** to download files from the internet when on the command line. We can also perform such activities in Python.\n",
    "\n",
    "While there are several modules available via Python for working with internet data, we recommend using the **Requests** module. Before we can use it, however, we need to import it."
   ]
  },
  {
   "cell_type": "code",
   "execution_count": null,
   "metadata": {
    "collapsed": true
   },
   "outputs": [],
   "source": []
  },
  {
   "cell_type": "markdown",
   "metadata": {},
   "source": [
    "Lets take a quick look at the help manual (in Python) for **requests**.\n",
    "\n",
    "You can also find more detailed information on how to use this library on the developer's website at http://docs.python-requests.org/en/master/."
   ]
  },
  {
   "cell_type": "code",
   "execution_count": null,
   "metadata": {},
   "outputs": [],
   "source": []
  },
  {
   "cell_type": "markdown",
   "metadata": {},
   "source": [
    "Next, we can use the **get()** function to retrieve something from the internet, at a specified webpage.\n",
    "\n",
    "For this example, I'm going to use Jane Austen's *Sense and Sensibility* from the Project Gutenberg. The text version of the book can be found at http://www.gutenberg.org/cache/epub/161/pg161.txt."
   ]
  },
  {
   "cell_type": "code",
   "execution_count": null,
   "metadata": {
    "collapsed": true
   },
   "outputs": [],
   "source": []
  },
  {
   "cell_type": "markdown",
   "metadata": {},
   "source": [
    "Next, we can use the **text** function to read what data was retrieved with the **get()** function. \n",
    "\n",
    "**Note:** Oddly, this function does not require brackets () in order to be used."
   ]
  },
  {
   "cell_type": "code",
   "execution_count": null,
   "metadata": {},
   "outputs": [],
   "source": []
  },
  {
   "cell_type": "markdown",
   "metadata": {},
   "source": [
    "*What do you notice about the text?*\n",
    "\n",
    "Is it just me, or does it seem to include a heck of a lot of back slashes?!?\n",
    "\n",
    "We learned about the concept of a back slash in association with a string on the command line when we were creating new folders. The back slash essentially tells the computer to STOP and not consider the following character as part of a command or code, instead, the computer needs to interpret that character as meaning something else. These are referred to as **escape characters**.\n",
    "\n",
    "\\n means a newline\n",
    "\\r means a carriage return (where someone actually pressed the Enter button)\n",
    "\\' means a single quotation mark\n",
    "\\\" means a double quotation mark\n",
    "\\? means a question mark\n",
    "\n",
    "You'll notice that a \\r almost always occurs with a \\n. This is because a newline and a carriage return are essentially the same thing, so they mainly happen at the same time."
   ]
  },
  {
   "cell_type": "markdown",
   "metadata": {},
   "source": [
    "#### Looking for Stuff in the Data\n",
    "\n",
    "In the Section 2.1.7b, we'll go into detail on how to search for and manipulate data within a text file. But, you can also do some simple searching at this stage, while your downloaded data is saved in a variable."
   ]
  },
  {
   "cell_type": "code",
   "execution_count": null,
   "metadata": {},
   "outputs": [],
   "source": []
  },
  {
   "cell_type": "markdown",
   "metadata": {},
   "source": [
    "#### Saving the File\n",
    "\n",
    "We'll go into more detail on these functions in the next section, but let's take a moment to save out downloaded data into a text file."
   ]
  },
  {
   "cell_type": "code",
   "execution_count": null,
   "metadata": {},
   "outputs": [],
   "source": []
  }
 ],
 "metadata": {
  "kernelspec": {
   "display_name": "Python 3",
   "language": "python",
   "name": "python3"
  },
  "language_info": {
   "codemirror_mode": {
    "name": "ipython",
    "version": 3
   },
   "file_extension": ".py",
   "mimetype": "text/x-python",
   "name": "python",
   "nbconvert_exporter": "python",
   "pygments_lexer": "ipython3",
   "version": "3.6.1"
  }
 },
 "nbformat": 4,
 "nbformat_minor": 2
}
