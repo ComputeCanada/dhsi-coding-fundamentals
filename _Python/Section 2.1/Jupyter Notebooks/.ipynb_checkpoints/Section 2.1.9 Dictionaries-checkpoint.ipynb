{
 "cells": [
  {
   "cell_type": "markdown",
   "metadata": {},
   "source": [
    "# Section 2.1.9 Dictionaries"
   ]
  },
  {
   "cell_type": "markdown",
   "metadata": {
    "collapsed": true
   },
   "source": [
    "### 1. What is a dictionary?\n",
    "\n",
    "Hold onto your hats, because things are about to get confusing.\n",
    "\n",
    "A **string** is a sequence of characters that is *immutable*. You can reference a character in a **string** using an *index number*. Round brackets -- () -- are used with **strings**. The order in which the characters appear in a **string** is important.\n",
    "\n",
    "A **list** is a sequence of elements that is *mutable*. You can reference an element in a **list** using an *index number*. Square brackets -- [] -- are used with **lists**. The order in which the elements appear in a **list** is important.\n",
    "\n",
    "A **dictionary** is a set of values that is *mutable*. You can reference a value in a **dictionary** by using a *key*. A *key* can be more than just a number. Curly brackets -- {} -- are used with **dictionaries**. The order in which the *keys* and *values* appear in a **dictionary** is unimportant.\n",
    "\n",
    "In essence, a **dictionary** is a set of *key-value* pairs. The *key* is mapped to the *value*. You find a *value* in a **dictionary** by using the *key*.\n",
    "\n",
    "#### Creating a New Dictionary\n",
    "\n",
    "The **dict()** built-in function can be used to create a new **dictionary**."
   ]
  },
  {
   "cell_type": "code",
   "execution_count": null,
   "metadata": {},
   "outputs": [],
   "source": []
  },
  {
   "cell_type": "markdown",
   "metadata": {},
   "source": [
    "#### Adding New Keys and Values to a Dictionary\n",
    "\n",
    "You can add *keys* and *values* to a **dictionary** one at a time:"
   ]
  },
  {
   "cell_type": "code",
   "execution_count": null,
   "metadata": {},
   "outputs": [],
   "source": []
  },
  {
   "cell_type": "code",
   "execution_count": null,
   "metadata": {},
   "outputs": [],
   "source": []
  },
  {
   "cell_type": "code",
   "execution_count": null,
   "metadata": {},
   "outputs": [],
   "source": []
  },
  {
   "cell_type": "code",
   "execution_count": null,
   "metadata": {},
   "outputs": [],
   "source": []
  },
  {
   "cell_type": "markdown",
   "metadata": {},
   "source": [
    "Or, you can add *keys* and *values* to a **dictionary** in groups."
   ]
  },
  {
   "cell_type": "code",
   "execution_count": null,
   "metadata": {},
   "outputs": [],
   "source": []
  },
  {
   "cell_type": "markdown",
   "metadata": {},
   "source": [
    "Technically, the order in which the *key-value* pairs appear in a **dictionary** is random and unpredictable, so it's just a coincidence they appeared in the same order as we entered them in the above examples. Do not be surprised if you experience something different."
   ]
  },
  {
   "cell_type": "markdown",
   "metadata": {},
   "source": [
    "### 2. Searching a Dictionary\n",
    "\n",
    "If you want to find a specific *value* in a **dictionary** and you know its *key*, you can use a similar method to finding values in **strings** and **lists**."
   ]
  },
  {
   "cell_type": "code",
   "execution_count": null,
   "metadata": {},
   "outputs": [],
   "source": []
  },
  {
   "cell_type": "code",
   "execution_count": null,
   "metadata": {},
   "outputs": [],
   "source": []
  },
  {
   "cell_type": "markdown",
   "metadata": {},
   "source": [
    "If the *key* you specified isn't in the **dictionary**, you'll get an error message."
   ]
  },
  {
   "cell_type": "markdown",
   "metadata": {},
   "source": [
    "If you don't know the *key*, you can search for it using the **in** operator."
   ]
  },
  {
   "cell_type": "code",
   "execution_count": null,
   "metadata": {},
   "outputs": [],
   "source": []
  },
  {
   "cell_type": "code",
   "execution_count": null,
   "metadata": {},
   "outputs": [],
   "source": []
  },
  {
   "cell_type": "markdown",
   "metadata": {},
   "source": [
    "You can also use the **len()** function to determine how many *key-value* pairs exist in a **dictionary**. However, if you think about it, the result may not actually be that useful."
   ]
  },
  {
   "cell_type": "code",
   "execution_count": null,
   "metadata": {},
   "outputs": [],
   "source": []
  },
  {
   "cell_type": "markdown",
   "metadata": {},
   "source": [
    "Unfortunately, there's no way to search a **dictionary** for a specific *value*. Instead, you have to get creative by using the **value()** function to export the *values* to a **list**. Then you can search the **list**."
   ]
  },
  {
   "cell_type": "code",
   "execution_count": null,
   "metadata": {},
   "outputs": [],
   "source": []
  },
  {
   "cell_type": "code",
   "execution_count": null,
   "metadata": {},
   "outputs": [],
   "source": []
  },
  {
   "cell_type": "markdown",
   "metadata": {},
   "source": [
    "**Fun Fact:** \n",
    "\n",
    "*The in operator works differently for a dictionary than it does for a list. When the in operator is looking through a list for the value you specified, it searches each entry one-by-one. If your list is really big, it may take a long time to find the value and may even slow down your computer.*\n",
    "\n",
    "*The in operator uses hash tables when it's searching through a dictionary. Hash tables allow the computer to search for any value within a dictionary at the same speed. Hash tables are really interesting, very valuable, and extremely confusing! If you want to learn more about hash tables, checkout the Wikipedia article --> https://en.wikipedia.org/wiki/Hash_table.*"
   ]
  },
  {
   "cell_type": "markdown",
   "metadata": {},
   "source": [
    "### 3. Dictionaries as Counters\n",
    "\n",
    "One common use of **dictionaries** is to use one to count the number of instances a specific word appears in a specific piece of text. This can be done with a *for loop*. We'll use the same text file from the Files section in this example."
   ]
  },
  {
   "cell_type": "code",
   "execution_count": null,
   "metadata": {},
   "outputs": [],
   "source": []
  },
  {
   "cell_type": "code",
   "execution_count": null,
   "metadata": {},
   "outputs": [],
   "source": []
  },
  {
   "cell_type": "code",
   "execution_count": null,
   "metadata": {},
   "outputs": [],
   "source": []
  },
  {
   "cell_type": "markdown",
   "metadata": {},
   "source": [
    "#### The Get Method\n",
    "\n",
    "While we can simply use the **print()** function to display the count (i.e., value) of each word (i.e., key), we can also include the **get()** method."
   ]
  },
  {
   "cell_type": "code",
   "execution_count": null,
   "metadata": {},
   "outputs": [],
   "source": []
  },
  {
   "cell_type": "code",
   "execution_count": null,
   "metadata": {},
   "outputs": [],
   "source": []
  },
  {
   "cell_type": "markdown",
   "metadata": {},
   "source": [
    "You can leave the second argument in the **get()** method blank, and it will return None if the *key* isn't found. Or you can specify something for it to return if the *key* doesn't exist."
   ]
  },
  {
   "cell_type": "code",
   "execution_count": null,
   "metadata": {},
   "outputs": [],
   "source": []
  },
  {
   "cell_type": "markdown",
   "metadata": {},
   "source": [
    "Now we can modify our word count script to use the **get()** method instead. Because we can tell the **get()** function to return a 0, which would NOT increase the counter if added to it, we can eliminate the entire *if statement*."
   ]
  },
  {
   "cell_type": "code",
   "execution_count": null,
   "metadata": {},
   "outputs": [],
   "source": []
  },
  {
   "cell_type": "markdown",
   "metadata": {},
   "source": [
    "**Note:** *In the above example, we used something called a *nested for loop*. The *outer loop* iterated through each line in the text file, while the *inner loop* iterated through each word in the line.*"
   ]
  },
  {
   "cell_type": "markdown",
   "metadata": {},
   "source": [
    "### 4. Looping through Dictionaries\n",
    "\n",
    "Python automatically knows what to do if you put a **dictionary** in a *for loop*. \n",
    "\n",
    "The variable key represents each of the *keys* in the **dictionary**. That key can be printed with its associated *value* as the loop iterates. The result looks a lot better than simply printing the dictionary as we did previously."
   ]
  },
  {
   "cell_type": "code",
   "execution_count": null,
   "metadata": {},
   "outputs": [],
   "source": []
  },
  {
   "cell_type": "markdown",
   "metadata": {},
   "source": [
    "In our word count example, we know that each *key* is a **string** which represents a word. And that each *value* is an **integer** which is the count of the number of times that word appears.\n",
    "\n",
    "Because the *value* is an **integer**, we can apply all sorts of integer-related operators to it."
   ]
  },
  {
   "cell_type": "code",
   "execution_count": null,
   "metadata": {},
   "outputs": [],
   "source": []
  },
  {
   "cell_type": "markdown",
   "metadata": {},
   "source": [
    "We can also get creative and use a list to put the *keys* in alphabetical order."
   ]
  },
  {
   "cell_type": "code",
   "execution_count": null,
   "metadata": {},
   "outputs": [],
   "source": []
  },
  {
   "cell_type": "markdown",
   "metadata": {},
   "source": [
    "### 5. Advanced Text Parsing\n",
    "\n",
    "What have you noticed about our word count list so far?\n",
    "\n",
    "1. It includes punctuation as part of certain words.\n",
    "2. It considers an upper and lower case letter as different."
   ]
  },
  {
   "cell_type": "markdown",
   "metadata": {},
   "source": [
    "**Pop Quiz:** *What can we do to eliminate this problem?*"
   ]
  },
  {
   "cell_type": "markdown",
   "metadata": {},
   "source": [
    "Remember, when we look at lines and words, they're **strings**. That means we can apply all sorts of *string methods* to these lines and words.\n",
    "\n",
    "We can remove all punctuation using the **translate()** function to 'translate' all punctuation marks into nothing. Luckily, Python has a built-in list of punctuation marks as part of the *string methods module*."
   ]
  },
  {
   "cell_type": "code",
   "execution_count": null,
   "metadata": {},
   "outputs": [],
   "source": []
  },
  {
   "cell_type": "markdown",
   "metadata": {},
   "source": [
    "Then, we can change all upper case letters to lower case by using the **lower()** function."
   ]
  },
  {
   "cell_type": "code",
   "execution_count": null,
   "metadata": {
    "collapsed": true
   },
   "outputs": [],
   "source": []
  },
  {
   "cell_type": "code",
   "execution_count": null,
   "metadata": {},
   "outputs": [],
   "source": []
  },
  {
   "cell_type": "markdown",
   "metadata": {},
   "source": [
    "If you're like me, you're probably wondering where the heck the **maketrans()** function came from. It's actually a built-in table that's part of the *string method module*.\n",
    "\n",
    "As per the Python Standard Library, instructions for using the **translate()** function are as follows:\n",
    "\n",
    "*str.translate(table)*\n",
    "Return a copy of the string in which each character has been mapped through the given translation table. The table must be an object that implements indexing via __getitem__(), typically a mapping or sequence. When indexed by a Unicode ordinal (an integer), the table object can do any of the following: return a Unicode ordinal or a string, to map the character to one or more other characters; return None, to delete the character from the return string; or raise a LookupError exception, to map the character to itself.\n",
    "\n",
    "You can use **str.maketrans()** to create a translation map from character-to-character mappings in different formats.\n",
    "\n",
    "And the instructions for using the **maketrans()** function is as follows:\n",
    "\n",
    "*static str.maketrans(x[, y[, z]])*\n",
    "This static method returns a translation table usable for str.translate().\n",
    "\n",
    "If there is only one argument, it must be a dictionary mapping Unicode ordinals (integers) or characters (strings of length 1) to Unicode ordinals, strings (of arbitrary lengths) or None. Character keys will then be converted to ordinals.\n",
    "\n",
    "If there are two arguments, they must be strings of equal length, and in the resulting dictionary, each character in x will be mapped to the character at the same position in y. If there is a third argument, it must be a string, whose characters will be mapped to None in the result.\n",
    "\n",
    "What does this all mean in plain English?\n",
    "\n",
    "It means, just follow the example and you'll be fine!"
   ]
  },
  {
   "cell_type": "markdown",
   "metadata": {},
   "source": [
    "### 6. Tips for Datasets\n",
    "\n",
    "As you can see, there is a lot to think about when it comes to parsing and analyzing datasets. Here are a few tips that you might find useful in the future:\n",
    "\n",
    "1. **Reduce the Data** -- Make your dataset as small as possible. Or parse and analyze it in chunks, rather than all at once. It is much easier to find an error in a small amount of data than in a huge amount of data.\n",
    "\n",
    "2. **Cross-check Results** -- It's always useful to cross-check your results with what you *think* is suppose to be happening. For example, instead of printing an entire dataset, look at summaries. Or, if you're getting errors, check that the various values are of the correct types.\n",
    "\n",
    "3. **Write Self-checks** -- A common method used by professional programmers is to write self-checks or sanity-checks into the code. These checks essentially make sure there's nothing funny going on. For example, if you know there are x number of words in a dataset, yet the sum of the values in your word count dictionary is greater than that number, there might be a problem.\n",
    "\n",
    "4. **Make the Output Pretty** -- In other words, don't create error messages that make no sense, or are too vague. I think we've all experienced those types of error messages when using commercial software and know how annoying it is. If you're writing the code, make sure your error message are detailed enough to help you find and solve the problem."
   ]
  },
  {
   "cell_type": "markdown",
   "metadata": {},
   "source": [
    "### Now, let's re-explore files and dictionaries using regular expressions."
   ]
  }
 ],
 "metadata": {
  "kernelspec": {
   "display_name": "Python 3",
   "language": "python",
   "name": "python3"
  },
  "language_info": {
   "codemirror_mode": {
    "name": "ipython",
    "version": 3
   },
   "file_extension": ".py",
   "mimetype": "text/x-python",
   "name": "python",
   "nbconvert_exporter": "python",
   "pygments_lexer": "ipython3",
   "version": "3.6.1"
  }
 },
 "nbformat": 4,
 "nbformat_minor": 2
}
