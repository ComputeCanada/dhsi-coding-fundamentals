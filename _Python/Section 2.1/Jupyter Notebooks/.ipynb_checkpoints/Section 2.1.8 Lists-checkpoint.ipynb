{
 "cells": [
  {
   "cell_type": "markdown",
   "metadata": {},
   "source": [
    "# Section 2.1.8 Lists"
   ]
  },
  {
   "cell_type": "markdown",
   "metadata": {
    "collapsed": true
   },
   "source": [
    "### 1. What is a list?\n",
    "\n",
    "Like a **string**, a **list** is a sequence of values. Unlike a **string**, the values can be any type, and we referred to these values as *elements* or *items*.\n",
    "\n",
    "You'll remember that when we created a **string** we simply assigned the **string's** contents to a variable. And the **string's** contents were contained within round brackets and quotations. For a **list**, we can use the same method, except we distinguish it as a **list** by using square brackets instead."
   ]
  },
  {
   "cell_type": "code",
   "execution_count": null,
   "metadata": {},
   "outputs": [],
   "source": []
  },
  {
   "cell_type": "markdown",
   "metadata": {},
   "source": [
    "As you can see, a **list** can contain any type AND more than one type at the same time. A **list** can even include another **list** as an *element*.\n",
    "\n",
    "If you want to create a **list** variable, but don't yet know what you want to store in it, simply use empty brackets."
   ]
  },
  {
   "cell_type": "code",
   "execution_count": null,
   "metadata": {},
   "outputs": [],
   "source": []
  },
  {
   "cell_type": "markdown",
   "metadata": {},
   "source": [
    "#### Finding an Element in a List\n",
    "\n",
    "Another similarity to **strings** is that you can call to a specific *element* in a **list** using an *index* number. Just like **strings**, the first *element* in the list is '0'."
   ]
  },
  {
   "cell_type": "code",
   "execution_count": null,
   "metadata": {},
   "outputs": [],
   "source": []
  },
  {
   "cell_type": "markdown",
   "metadata": {},
   "source": [
    "#### Lists are Mutable\n",
    "\n",
    "Unlike a string, lists are *mutable*, which means you can change or update the *elements* within a **list**. Being *mutable* also means you can re-order the *elements* in a **list**. As you can imagine, this could cause a lot of problems if you're not careful!"
   ]
  },
  {
   "cell_type": "code",
   "execution_count": null,
   "metadata": {},
   "outputs": [],
   "source": []
  },
  {
   "cell_type": "markdown",
   "metadata": {},
   "source": [
    "You can also use negative *indices* to start at the end of a **list** and work your way towards the beginning of the **list**."
   ]
  },
  {
   "cell_type": "code",
   "execution_count": null,
   "metadata": {},
   "outputs": [],
   "source": []
  },
  {
   "cell_type": "markdown",
   "metadata": {},
   "source": [
    "### 2. Traversing a List\n",
    "\n",
    "As with **strings**, you can traverse a **list** using a *for loop*."
   ]
  },
  {
   "cell_type": "code",
   "execution_count": null,
   "metadata": {},
   "outputs": [],
   "source": []
  },
  {
   "cell_type": "markdown",
   "metadata": {},
   "source": [
    "As we saw in sub-section 1 above, we need to know the *index* of an *element* in a **list** if we want to change it. The above code will not work."
   ]
  },
  {
   "cell_type": "code",
   "execution_count": null,
   "metadata": {},
   "outputs": [],
   "source": []
  },
  {
   "cell_type": "markdown",
   "metadata": {},
   "source": [
    "Instead we can use two **string** methods to replace *elements* in a **list**.\n",
    "\n",
    "**len()** tells us how many *elements* are in a specific **list**.\n",
    "\n",
    "**range()** gives us a range of numbers between 0 and len() - 1. If there are 10 *elements* in a **list**, the **range()** function will count from 0 to 9."
   ]
  },
  {
   "cell_type": "code",
   "execution_count": null,
   "metadata": {},
   "outputs": [],
   "source": []
  },
  {
   "cell_type": "markdown",
   "metadata": {},
   "source": [
    "We can also use arithmetic to manipulate the *elements* in a **list**."
   ]
  },
  {
   "cell_type": "code",
   "execution_count": null,
   "metadata": {},
   "outputs": [],
   "source": []
  },
  {
   "cell_type": "markdown",
   "metadata": {},
   "source": [
    "**TIP:** *Remember how we said earlier that a list can contain another list as one of its elements? A list which is an element is still considered to be one 'spot' in the list, which one index number associated with it.*"
   ]
  },
  {
   "cell_type": "code",
   "execution_count": null,
   "metadata": {},
   "outputs": [],
   "source": []
  },
  {
   "cell_type": "code",
   "execution_count": null,
   "metadata": {},
   "outputs": [],
   "source": []
  },
  {
   "cell_type": "markdown",
   "metadata": {},
   "source": [
    "To print an *element* in a **list** that is within a **list** we need to use a second set of brackets with a second set of *indices*."
   ]
  },
  {
   "cell_type": "code",
   "execution_count": null,
   "metadata": {},
   "outputs": [],
   "source": []
  },
  {
   "cell_type": "markdown",
   "metadata": {},
   "source": [
    "### 3. List Operations\n",
    "\n",
    "There are several *operators* that can be used to manipulate **lists**.\n",
    "\n",
    "The plus (+) operator can concatenate two or more **lists** into one **list**.\n",
    "\n",
    "The asterisk operator can be used to repeat a **list** two or more times."
   ]
  },
  {
   "cell_type": "code",
   "execution_count": null,
   "metadata": {},
   "outputs": [],
   "source": []
  },
  {
   "cell_type": "code",
   "execution_count": null,
   "metadata": {},
   "outputs": [],
   "source": []
  },
  {
   "cell_type": "markdown",
   "metadata": {},
   "source": [
    "The *slice* operator can be used with **lists** to select a portion of the **list**. And just like with **strings**, if you use a [:x], it will start at the front of the **list** and go over x *elements*. And if you use [x:], it will start at the end of the **list** and go to back x *elements*."
   ]
  },
  {
   "cell_type": "code",
   "execution_count": null,
   "metadata": {},
   "outputs": [],
   "source": []
  },
  {
   "cell_type": "code",
   "execution_count": null,
   "metadata": {},
   "outputs": [],
   "source": []
  },
  {
   "cell_type": "code",
   "execution_count": null,
   "metadata": {},
   "outputs": [],
   "source": []
  },
  {
   "cell_type": "markdown",
   "metadata": {},
   "source": [
    "A *slice* operator can also be used to change or update **list**."
   ]
  },
  {
   "cell_type": "code",
   "execution_count": null,
   "metadata": {},
   "outputs": [],
   "source": []
  },
  {
   "cell_type": "code",
   "execution_count": null,
   "metadata": {},
   "outputs": [],
   "source": []
  },
  {
   "cell_type": "markdown",
   "metadata": {},
   "source": [
    "Since **lists** are *sequences* and *mutable*, all the operators that apply to these objects. You can find a full list of *sequence* and *mutable* operations on the Python documentation website:\n",
    "\n",
    "Sequence or Common Operators = https://docs.python.org/3/library/stdtypes.html#typesseq-common\n",
    "\n",
    "Mutable Operators = https://docs.python.org/3/library/stdtypes.html#typesseq-mutable"
   ]
  },
  {
   "cell_type": "markdown",
   "metadata": {},
   "source": [
    "### 4. List Methods\n",
    "\n",
    "Just like **strings**, Python has a set of *methods* for **lists**. \n",
    "\n",
    "1. The **append()** function which adds one new *element* to the end of a **list**.\n",
    "2. The **extend()** function adds all the *elements* of one **list** to the end of another **list**.\n",
    "3. The **sort()** function arranges the *elements* of a **list** from lowest to highest."
   ]
  },
  {
   "cell_type": "code",
   "execution_count": null,
   "metadata": {},
   "outputs": [],
   "source": []
  },
  {
   "cell_type": "code",
   "execution_count": null,
   "metadata": {},
   "outputs": [],
   "source": []
  },
  {
   "cell_type": "code",
   "execution_count": null,
   "metadata": {},
   "outputs": [],
   "source": []
  },
  {
   "cell_type": "markdown",
   "metadata": {},
   "source": [
    "### 5. Deleting Elements\n",
    "\n",
    "Since **lists** are mutable, you can also delete *elements* from a them. There are two ways to delete *elements* from **lists**:\n",
    "\n",
    "1. The **pop()** function deletes an *element* from the specified list AND return the value of that deleted *element*.\n",
    "2. The **del()** function deletes one or more *elements* from the specified list, but doesn't return anything.\n",
    "3. The **remove()** function can delete one or more *elements* from a **list** based on its value (not its index)."
   ]
  },
  {
   "cell_type": "code",
   "execution_count": 1,
   "metadata": {},
   "outputs": [],
   "source": [
    "# Before.\n",
    "\n",
    "# After.\n"
   ]
  },
  {
   "cell_type": "code",
   "execution_count": 2,
   "metadata": {},
   "outputs": [],
   "source": [
    "# Before.\n",
    "\n",
    "# After.\n"
   ]
  },
  {
   "cell_type": "code",
   "execution_count": 3,
   "metadata": {},
   "outputs": [],
   "source": [
    "# Before.\n",
    "\n",
    "\n",
    "# After.\n"
   ]
  },
  {
   "cell_type": "code",
   "execution_count": 4,
   "metadata": {},
   "outputs": [],
   "source": [
    "# Before.\n",
    "\n",
    "\n",
    "# After.\n"
   ]
  },
  {
   "cell_type": "code",
   "execution_count": 5,
   "metadata": {},
   "outputs": [],
   "source": [
    "# Before.\n",
    "\n",
    "\n",
    "# After.\n"
   ]
  },
  {
   "cell_type": "code",
   "execution_count": null,
   "metadata": {},
   "outputs": [],
   "source": []
  },
  {
   "cell_type": "markdown",
   "metadata": {},
   "source": [
    "**Pop Quiz:** *What do you notice about the remove() function?"
   ]
  },
  {
   "cell_type": "markdown",
   "metadata": {},
   "source": [
    "### 6. Lists and Functions\n",
    "\n",
    "Several of Python's built-in functions can be used with **lists**, such as *len()*, *min()*, *max()*, and *sum()*.\n",
    "\n",
    "Note that the *sum()* function only works on **list** *elements* that are integers, but the rest work on other *element* types."
   ]
  },
  {
   "cell_type": "code",
   "execution_count": null,
   "metadata": {},
   "outputs": [],
   "source": []
  },
  {
   "cell_type": "markdown",
   "metadata": {},
   "source": [
    "### 7. Lists and Strings\n",
    "\n",
    "A **list** of characters is not the same as a **string**.\n",
    "\n",
    "You can, however, take a **string** and place it in a **list** using the **list()** function. The resulting **list** looks quite different from the original **string**."
   ]
  },
  {
   "cell_type": "code",
   "execution_count": null,
   "metadata": {},
   "outputs": [],
   "source": []
  },
  {
   "cell_type": "markdown",
   "metadata": {},
   "source": [
    "The **string** that was created is actually a sentence, with multiple words. You'll notice that the **list()** function considered the blank spaces and punctuation as characters that needed to be added to the **list**.\n",
    "\n",
    "While this is an interesting way to convert a **string** to a **list**, it might not be overly useful. Instead, you might find it helpful to use the **split()** function."
   ]
  },
  {
   "cell_type": "code",
   "execution_count": null,
   "metadata": {},
   "outputs": [],
   "source": []
  },
  {
   "cell_type": "markdown",
   "metadata": {},
   "source": [
    "The **split()** function determines where to split the **string** based on blank spaces, so it keeps punctuation.\n",
    "\n",
    "The **split()** function can also be used with an argument that can represent a *delimiter*. You may recall that there are text files referred to as comma-separate files. In these files, the comma (,) is the *delimiter*, separating the various values."
   ]
  },
  {
   "cell_type": "code",
   "execution_count": null,
   "metadata": {},
   "outputs": [],
   "source": []
  },
  {
   "cell_type": "markdown",
   "metadata": {},
   "source": [
    "Now that you've split up a **string** and created a **list**, you can *join* the *elements* of a **list** to create a **string** using the **join()** function."
   ]
  },
  {
   "cell_type": "code",
   "execution_count": null,
   "metadata": {},
   "outputs": [],
   "source": []
  },
  {
   "cell_type": "markdown",
   "metadata": {},
   "source": [
    "### 8. Objects and Values\n",
    "\n",
    "You may not have realized it, but Python saves some **strings** to memory very efficiently. If you create two or more **strings** that contain the same value, Python considers them to be the same **string** object. Basically, Python saves the **string** once, but refers to it with both variable names."
   ]
  },
  {
   "cell_type": "code",
   "execution_count": null,
   "metadata": {},
   "outputs": [],
   "source": []
  },
  {
   "cell_type": "markdown",
   "metadata": {},
   "source": [
    "You can use the 'is' operator to compare the two **strings** and ask Python if they are in fact the same object. As you can see above, Python returned True, indicating that the two **strings** are in fact the same **string** object.\n",
    "\n",
    "Note what happens when the string contains more than one word:"
   ]
  },
  {
   "cell_type": "code",
   "execution_count": null,
   "metadata": {},
   "outputs": [],
   "source": []
  },
  {
   "cell_type": "markdown",
   "metadata": {},
   "source": [
    "*Keep the above quirk in mind when comparing strings.*\n",
    "\n",
    "**Lists**, on the other hand, are saved into memory each and every time one is created, even if they are exactly the same. Separate objects get created each time."
   ]
  },
  {
   "cell_type": "code",
   "execution_count": null,
   "metadata": {},
   "outputs": [],
   "source": []
  },
  {
   "cell_type": "markdown",
   "metadata": {},
   "source": [
    "#### Aliases\n",
    "\n",
    "In the first **string** example, Python tells us the two **strings** are in fact the same object. That means that both variables (stringA and stringB) refer to the same object. In Python, this is referred to as *aliasing*. In this case, the object has two aliases --> stringA and stringB.\n",
    "\n",
    "If you did want to create an *alias* for a **list**, you can by assigning a new variable name to an existing **list**."
   ]
  },
  {
   "cell_type": "code",
   "execution_count": null,
   "metadata": {},
   "outputs": [],
   "source": []
  },
  {
   "cell_type": "markdown",
   "metadata": {},
   "source": [
    "Keep in mind that there is still only one actual **list** object. And because **lists** are mutable, you can make changes to these **list** objects. But, if you make a chance to one **list** (listA), it changes the object referred to by all that list's aliases (i.e. listC).\n",
    "\n",
    "#### New vs. Modified Lists\n",
    "\n",
    "If you want to create a duplicate list so you have a version of the original **list** saved somewhere, don't use the assignment method. One possible alternative method is to create an empty **list** and *extend* it with an existing list."
   ]
  },
  {
   "cell_type": "code",
   "execution_count": null,
   "metadata": {},
   "outputs": [],
   "source": []
  },
  {
   "cell_type": "code",
   "execution_count": null,
   "metadata": {},
   "outputs": [],
   "source": []
  },
  {
   "cell_type": "code",
   "execution_count": null,
   "metadata": {},
   "outputs": [],
   "source": []
  },
  {
   "cell_type": "markdown",
   "metadata": {},
   "source": [
    "As we saw above, it's important to know which operations and function *modify* a **list** versus those that *create* a new **list**. \n",
    "\n",
    "We've already seen that variable assignments (i.e., =) create *aliases* not new **lists**. And that the **extend()** function technically *modifies* an existing **list**. The **append()** function also *modifies* an existing **list**.\n",
    "\n",
    "But, the following method creates a new **list**:"
   ]
  },
  {
   "cell_type": "code",
   "execution_count": null,
   "metadata": {},
   "outputs": [],
   "source": []
  }
 ],
 "metadata": {
  "kernelspec": {
   "display_name": "Python 3",
   "language": "python",
   "name": "python3"
  },
  "language_info": {
   "codemirror_mode": {
    "name": "ipython",
    "version": 3
   },
   "file_extension": ".py",
   "mimetype": "text/x-python",
   "name": "python",
   "nbconvert_exporter": "python",
   "pygments_lexer": "ipython3",
   "version": "3.6.1"
  }
 },
 "nbformat": 4,
 "nbformat_minor": 2
}
