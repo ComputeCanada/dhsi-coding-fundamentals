{
 "cells": [
  {
   "cell_type": "markdown",
   "metadata": {},
   "source": [
    "# Section 2.1.5 Iterations and Loops"
   ]
  },
  {
   "cell_type": "markdown",
   "metadata": {},
   "source": [
    "## A Note About Loops\n",
    "\n",
    "**Loops** are wonderful tools in Python (and all other programming languages). **Loops** allow you to continue executing specific pieces of code as long as one or more condition meets a certain criteria. For example, a **loop** might continue to run the code inside it as long as the counter is under the count of 10.\n",
    "\n",
    "**BEWARE:** **Loops** are awesome, but can also be the source of a lot of stress. If you do not code a **loop** properly, it might end up running FOREVER. If this happens, your computer will basically be stuck in the **loop** until it dies. If this happens, you'll need to manually stop the **loop** so you can make corrections.\n",
    "\n",
    "To stop a **loop** in Jupyter Notebooks, you can click on the *stop* button in the toolbar at the top of the page. This *interrupts* the kernal (the area of your computer that is running the **loop**) so you can get control back. If that doesn't work, you can also click on the Kernal option in the menubar and *restart*, *reconnect*, or *shutdown* the kernal.\n",
    "\n",
    "As long as you continue to save your work, you could even turn off your computer and restart it to get a really troublesome **loop** to stop. Well, technically, you don't have to save your work, but you'd lose whatever you didn't save if you had to restart your computer\n",
    "\n",
    "**Pop Quiz:** Does everyone know how to restart their laptops without following the normal shutdown procedure?"
   ]
  },
  {
   "cell_type": "markdown",
   "metadata": {},
   "source": [
    "## 1. WHILE Loops\n",
    "\n",
    "**Loops** and iterations are one of the greatest features of any programming language, because they allow you to automate the boring stuff that humans, while intelligent, tend to screw up!\n",
    "\n",
    "The **while loop** is one such tool for iteration.\n",
    "\n",
    "Basically, a **while loop** starts off by saying \"while this condition is still met, do this.\" When the condition is no longer met, the **while loop** ends and the program moves onto the next bit of code.\n",
    "\n",
    "    while x meets some condition:\n",
    "        do this\n",
    "        increase/decrease/change x\n",
    "        \n",
    "The first line of a **while loop** needs to end with a colon, and every line within a **while loop** needs to be indented."
   ]
  },
  {
   "cell_type": "code",
   "execution_count": 3,
   "metadata": {},
   "outputs": [
    {
     "name": "stdout",
     "output_type": "stream",
     "text": [
      "10\n",
      "9\n",
      "8\n",
      "7\n",
      "6\n",
      "5\n",
      "4\n",
      "3\n",
      "2\n",
      "1\n",
      "Finished\n"
     ]
    }
   ],
   "source": [
    "x = 10\n",
    "\n",
    "while x > 0:\n",
    "    print(x)\n",
    "    x = x - 1\n",
    "    \n",
    "print(\"Finished\")"
   ]
  },
  {
   "cell_type": "markdown",
   "metadata": {},
   "source": [
    "**Pop Quiz**: *Why didn't it go to 10?*"
   ]
  },
  {
   "cell_type": "markdown",
   "metadata": {},
   "source": [
    "**Exercise**: *Write a similar WHILE loop that counts down instead of up.*"
   ]
  },
  {
   "cell_type": "markdown",
   "metadata": {},
   "source": [
    "#### The Flow of Execution of a While Loop:\n",
    "\n",
    "1. Evaluate condition, is it True or False?\n",
    "2. If the condition = False, end loop. \n",
    "3. If the condition = True, continue loop.\n",
    "\n",
    "In the case of our above example, the 'x' is called the *iteration variable* because it's what controls when the **while loop** ends."
   ]
  },
  {
   "cell_type": "markdown",
   "metadata": {},
   "source": [
    "## 2. Infinite Loops\n",
    "\n",
    "If an *iteration variable* isn't used, or it's used incorrectly, the **loop** may never end.\n",
    "\n",
    "**Exercise:** *How would you intentionally create an infinite loop?*"
   ]
  },
  {
   "cell_type": "code",
   "execution_count": null,
   "metadata": {
    "collapsed": true
   },
   "outputs": [],
   "source": []
  },
  {
   "cell_type": "markdown",
   "metadata": {},
   "source": [
    "Sometimes, **infinite loops** are wanted or needed because you may not know when the **loop** should begin or when you want it to stop. In this case, you can use a **break** statement to stop the **loop** under certain conditions.\n",
    "\n",
    "In the following case, we'll use the same **loop** as above, but put a **break** in after it's added 1 to the iteration variable. The **loop** never gets a chance to cycle through again."
   ]
  },
  {
   "cell_type": "code",
   "execution_count": 7,
   "metadata": {},
   "outputs": [
    {
     "ename": "IndentationError",
     "evalue": "expected an indented block (<ipython-input-7-7ebf2551d6c6>, line 7)",
     "output_type": "error",
     "traceback": [
      "\u001b[0;36m  File \u001b[0;32m\"<ipython-input-7-7ebf2551d6c6>\"\u001b[0;36m, line \u001b[0;32m7\u001b[0m\n\u001b[0;31m    break\u001b[0m\n\u001b[0m        ^\u001b[0m\n\u001b[0;31mIndentationError\u001b[0m\u001b[0;31m:\u001b[0m expected an indented block\n"
     ]
    }
   ],
   "source": [
    "x = 10\n",
    "\n",
    "while x != 0:\n",
    "    print(\"I'm still going.\")\n",
    "    x = x + 1\n",
    "    if x == 15:\n",
    "    break\n",
    "    \n",
    "print(\"I've ended.\")"
   ]
  },
  {
   "cell_type": "markdown",
   "metadata": {},
   "source": [
    "But we can also use **break** after we've checked for a specific condition.\n",
    "\n",
    "Say, for example, the user needs to input a number for us, and we want to keep running the **loop** until we get to the user's number."
   ]
  },
  {
   "cell_type": "code",
   "execution_count": null,
   "metadata": {
    "collapsed": true
   },
   "outputs": [],
   "source": []
  },
  {
   "cell_type": "markdown",
   "metadata": {},
   "source": [
    "**Note**: The above code took me 30 mins to write because the input() function automatically captures strings, not integers. I had to check the internet to see how to convert it because my conversion code wasn't working. This is where it gets fun!"
   ]
  },
  {
   "cell_type": "markdown",
   "metadata": {},
   "source": [
    "## 3. \"Continue\"\n",
    "\n",
    "In sub-section 2 we looked at how to end an **infinite loop**. But what if you had more than one potential condition you wanted to check within the **loop**, and one of those conditions meant you wanted the **loop** to keep going? In other words, you might have two if statements, or an if/else statement.\n",
    "\n",
    "We can use our previous script as an example, although technically, it's doing the same thing."
   ]
  },
  {
   "cell_type": "code",
   "execution_count": null,
   "metadata": {
    "collapsed": true
   },
   "outputs": [],
   "source": []
  },
  {
   "cell_type": "markdown",
   "metadata": {},
   "source": [
    "## 4. FOR Loops\n",
    "\n",
    "A **while loop** is great, but it's referred to as an *indefinite* **loop**. It keeps going until a specific condition is False.\n",
    "\n",
    "A **for loop**, on the other hand, is referred to as a *definite* **loop** because it only loops through a known list of things.\n",
    "\n",
    "A **for loop** is written almost exactly like a **while loop** --- the header needs to end with a colon, and the internal statements need to be indented.\n",
    "\n",
    "    for something in the list:\n",
    "        do this\n",
    "        and this\n",
    "        \n",
    "The \"in the list\" part of the **for loop** is referring back to a list of something you've already created. Whatever name you gave it when you created it, you need to refer to that name here.\n",
    "\n",
    "The \"something\" part of the **for loop** is sort of like an argument, but it's connected to the **for loop**, not something you've passed to the **for loop**.\n",
    "\n",
    "For example,\n",
    "\n",
    "Say you have a list of your cats' names --> Pippin, Jasper, Ben, Riley, Jasmine <-- and you want to cycle through a **for loop** and say \"Hi\" to each of them. Here's what you'd do:\n",
    "       "
   ]
  },
  {
   "cell_type": "code",
   "execution_count": 8,
   "metadata": {},
   "outputs": [
    {
     "name": "stdout",
     "output_type": "stream",
     "text": [
      "I love Pippin\n",
      "I love Jasper\n",
      "I love Ben\n",
      "I love Riley\n",
      "I love Jasmine\n"
     ]
    }
   ],
   "source": [
    "mountain = [\"Pippin\", \"Jasper\", \"Ben\", \"Riley\", \"Jasmine\"]\n",
    "\n",
    "for each_item in mountain:\n",
    "    print(\"I love\", each_item)"
   ]
  },
  {
   "cell_type": "markdown",
   "metadata": {},
   "source": [
    "Just like the **while loop**, a **for loop** needs an *iteration variable*. But, unlike a **while loop**, you do not need to iterate the *iteration variable* yourself in a **for loop**. The **for loop** does the iteration for you. (No pun intended!)\n",
    "\n",
    "So, in the above example, the variable 'cat' is the *iteration variable* and the function of the **for loop** automatically cycled through each name in the 'cats' list while executing.\n",
    "\n",
    "*p.s. We'll learn more about lists in section 2.1.8.*"
   ]
  },
  {
   "cell_type": "markdown",
   "metadata": {},
   "source": [
    "**Exercise:** *Create a for loop that goes through the months of the year.*"
   ]
  },
  {
   "cell_type": "markdown",
   "metadata": {},
   "source": [
    "## 5. Loop Patterns\n",
    "\n",
    "**Loops**, in general, have specific patterns that must always been followed. Those patterns include:\n",
    "\n",
    "1. One or more variable that needs to be initialized (i.e., assigned, set, etc.) before the **loop** begins.\n",
    "2. One or more computation within the body of the **loop**. In some cases, at least one of these computations may need to iterate a variable.\n",
    "3. Continual evaluation of one or more conditions to determine when the **loop** has to end.\n",
    "\n",
    "#### Using Lists to Accumulate\n",
    "\n",
    "Let's imagine you had a list of numbers, and you wanted to know what the sum of all those numbers is. You can use a **for loop** to do this."
   ]
  },
  {
   "cell_type": "code",
   "execution_count": 9,
   "metadata": {},
   "outputs": [
    {
     "name": "stdout",
     "output_type": "stream",
     "text": [
      "247\n"
     ]
    }
   ],
   "source": [
    "sum = 0\n",
    "\n",
    "for each_number in [23, 45, 67, 45, 67]:\n",
    "    sum = sum + each_number\n",
    "    \n",
    "print(sum)"
   ]
  },
  {
   "cell_type": "markdown",
   "metadata": {},
   "source": [
    "In the above example, the variable **sum** is referred to as an *accumulator*.\n",
    "\n",
    "One downside to showing you a neat **loop** like this is the fact that Python actually has built-in functions that can do this sort of stuff for you. Therefore, you technically don't need to use a **loop** to determine the sum of a set of numbers. But, it works as a good example of what Python **loops** are capable of.\n",
    "\n",
    "\n",
    "#### Using Lists to Determine Min and Max\n",
    "\n",
    "Like using a list to count or sum, using a list to determine a min or a max is just a teaching tool. There are functions that do this for you.\n",
    "\n",
    "But, let's imagine you have a list of numbers and you want to determine what the largest number in the list is, and what the smallest number in the list was. You can use a **for loop** to cycle through the numbers and determine which one is the largest and smallest."
   ]
  },
  {
   "cell_type": "code",
   "execution_count": 1,
   "metadata": {
    "collapsed": true
   },
   "outputs": [],
   "source": [
    "# Largest number in the list.\n",
    "\n",
    "\n",
    "\n",
    "# Smallest number in the list.\n",
    "\n"
   ]
  },
  {
   "cell_type": "markdown",
   "metadata": {},
   "source": [
    "**Pop Quiz:** *Why did we assign the variables 'smallest' and 'largest' to None and not 0?*\n"
   ]
  }
 ],
 "metadata": {
  "kernelspec": {
   "display_name": "Python 3",
   "language": "python",
   "name": "python3"
  },
  "language_info": {
   "codemirror_mode": {
    "name": "ipython",
    "version": 3
   },
   "file_extension": ".py",
   "mimetype": "text/x-python",
   "name": "python",
   "nbconvert_exporter": "python",
   "pygments_lexer": "ipython3",
   "version": "3.6.1"
  }
 },
 "nbformat": 4,
 "nbformat_minor": 2
}
